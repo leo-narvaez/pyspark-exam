{
 "cells": [
  {
   "cell_type": "markdown",
   "metadata": {
    "application/vnd.databricks.v1+cell": {
     "cellMetadata": {},
     "inputWidgets": {},
     "nuid": "c9bfa09e-f54f-4fa5-bb53-85792757b7f6",
     "showTitle": false,
     "tableResultSettingsMap": {},
     "title": ""
    }
   },
   "source": [
    "# Caso 1\n",
    "- Preparar el fichero `orders_data.parquet` de modo que pueda ser usado para contruir un 'forecasting model'.  \n",
    "- Limpiar la dataset para que cumpla los requerimientos del equipo de Data y Machine Learning.  \n",
    "- Guardar el archivo actualizado (limpio) como `orders_data_clean.parquet`"
   ]
  },
  {
   "cell_type": "markdown",
   "metadata": {
    "application/vnd.databricks.v1+cell": {
     "cellMetadata": {},
     "inputWidgets": {},
     "nuid": "8e722f5a-d92b-4210-80ea-6fff061b7081",
     "showTitle": false,
     "tableResultSettingsMap": {},
     "title": ""
    }
   },
   "source": [
    "Como ingeniero de datos de una empresa de comercio electrónico llamada Voltmart, un equipo de aprendizaje automático le ha pedido que limpie los datos que contienen información sobre los pedidos realizados el año pasado. Tienen previsto utilizar estos datos depurados para crear un modelo de previsión de la demanda (Forecasting Model). Para ello, han compartido sus requisitos sobre el formato de tabla de salida deseado.\n",
    "\n",
    "Un analista ha compartido un archivo parquet llamado `orders_data.parquet` para que usted los limpie y los preprocese.\n",
    "\n",
    "A continuación puede ver el esquema del conjunto de datos junto con los requisitos de limpieza de los perezosos analistas de datos:"
   ]
  },
  {
   "cell_type": "markdown",
   "metadata": {
    "application/vnd.databricks.v1+cell": {
     "cellMetadata": {},
     "inputWidgets": {},
     "nuid": "4a793c3b-1d16-4ba8-98b6-1ccb3be7d1b6",
     "showTitle": false,
     "tableResultSettingsMap": {},
     "title": ""
    }
   },
   "source": [
    "## `orders_data.parquet`\n",
    "\n",
    "| column | data type | description | cleaning requirements | \n",
    "|--------|-----------|-------------|-----------------------|\n",
    "| `order_date` | `timestamp` | Date and time when the order was made | _Modify: Remove orders placed between 12am and 5am (inclusive); convert from timestamp to date_ |\n",
    "| `time_of_day` | `string` | Period of the day when the order was made | _New column containing (lower bound inclusive, upper bound exclusive): \"morning\" for orders placed 5-12am, \"afternoon\" for orders placed 12-6pm, and \"evening\" for 6-12pm_ |\n",
    "| `order_id` | `long` | Order ID | _N/A_ |\n",
    "| `product` | `string` | Name of a product ordered | _Remove rows containing \"TV\" as the company has stopped selling this product; ensure all values are lowercase_ |\n",
    "| `product_ean` | `double` | Product ID | _N/A_ |\n",
    "| `category` | `string` | Broader category of a product | _Ensure all values are lowercase_ |\n",
    "| `purchase_address` | `string` | Address line where the order was made (\"House Street, City, State Zipcode\") | _N/A_ |\n",
    "| `purchase_state` | `string` | US State of the purchase address | _New column containing: the State that the purchase was ordered from_ |\n",
    "| `quantity_ordered` | `long` | Number of product units ordered | _N/A_ |\n",
    "| `price_each` | `double` | Price of a product unit | _N/A_ |\n",
    "| `cost_price` | `double` | Cost of production per product unit | _N/A_ |\n",
    "| `turnover` | `double` | Total amount paid for a product (quantity x price) | _N/A_ |\n",
    "| `margin` | `double` | Profit made by selling a product (turnover - cost) | _N/A_ |\n",
    "\n",
    "<br>"
   ]
  },
  {
   "cell_type": "code",
   "execution_count": 0,
   "metadata": {
    "application/vnd.databricks.v1+cell": {
     "cellMetadata": {
      "byteLimit": 2048000,
      "rowLimit": 10000
     },
     "inputWidgets": {},
     "nuid": "32eb7dfb-bcca-467e-a058-ffc6a8c57cce",
     "showTitle": false,
     "tableResultSettingsMap": {},
     "title": ""
    }
   },
   "outputs": [],
   "source": [
    "from pyspark.sql import (\n",
    "    SparkSession,\n",
    "    types,\n",
    "    functions as F,\n",
    ")\n",
    "\n",
    "spark = (\n",
    "    SparkSession\n",
    "    .builder\n",
    "    .appName('cleaning_orders_dataset_with_pyspark')\n",
    "    .getOrCreate()\n",
    ")"
   ]
  },
  {
   "cell_type": "code",
   "execution_count": 0,
   "metadata": {
    "application/vnd.databricks.v1+cell": {
     "cellMetadata": {
      "byteLimit": 2048000,
      "rowLimit": 10000
     },
     "inputWidgets": {},
     "nuid": "d3848b72-2ba5-4779-8813-1b6e7416a775",
     "showTitle": false,
     "tableResultSettingsMap": {},
     "title": ""
    }
   },
   "outputs": [
    {
     "output_type": "display_data",
     "data": {
      "text/html": [
       "<div>\n",
       "<style scoped>\n",
       "    .dataframe tbody tr th:only-of-type {\n",
       "        vertical-align: middle;\n",
       "    }\n",
       "\n",
       "    .dataframe tbody tr th {\n",
       "        vertical-align: top;\n",
       "    }\n",
       "\n",
       "    .dataframe thead th {\n",
       "        text-align: right;\n",
       "    }\n",
       "</style>\n",
       "<table border=\"1\" class=\"dataframe\">\n",
       "  <thead>\n",
       "    <tr style=\"text-align: right;\">\n",
       "      <th></th>\n",
       "      <th>order_date</th>\n",
       "      <th>order_id</th>\n",
       "      <th>product</th>\n",
       "      <th>product_id</th>\n",
       "      <th>category</th>\n",
       "      <th>purchase_address</th>\n",
       "      <th>quantity_ordered</th>\n",
       "      <th>price_each</th>\n",
       "      <th>cost_price</th>\n",
       "      <th>turnover</th>\n",
       "      <th>margin</th>\n",
       "    </tr>\n",
       "  </thead>\n",
       "  <tbody>\n",
       "    <tr>\n",
       "      <th>0</th>\n",
       "      <td>2023-01-22 21:25:00</td>\n",
       "      <td>141234</td>\n",
       "      <td>iPhone</td>\n",
       "      <td>5.638009e+12</td>\n",
       "      <td>Vêtements</td>\n",
       "      <td>944 Walnut St, Boston, MA 02215</td>\n",
       "      <td>1</td>\n",
       "      <td>700.00</td>\n",
       "      <td>231.0000</td>\n",
       "      <td>700.00</td>\n",
       "      <td>469.0000</td>\n",
       "    </tr>\n",
       "    <tr>\n",
       "      <th>1</th>\n",
       "      <td>2023-01-28 14:15:00</td>\n",
       "      <td>141235</td>\n",
       "      <td>Lightning Charging Cable</td>\n",
       "      <td>5.563320e+12</td>\n",
       "      <td>Alimentation</td>\n",
       "      <td>185 Maple St, Portland, OR 97035</td>\n",
       "      <td>1</td>\n",
       "      <td>14.95</td>\n",
       "      <td>7.4750</td>\n",
       "      <td>14.95</td>\n",
       "      <td>7.4750</td>\n",
       "    </tr>\n",
       "    <tr>\n",
       "      <th>2</th>\n",
       "      <td>2023-01-17 13:33:00</td>\n",
       "      <td>141236</td>\n",
       "      <td>Wired Headphones</td>\n",
       "      <td>2.113973e+12</td>\n",
       "      <td>Vêtements</td>\n",
       "      <td>538 Adams St, San Francisco, CA 94016</td>\n",
       "      <td>2</td>\n",
       "      <td>11.99</td>\n",
       "      <td>5.9950</td>\n",
       "      <td>23.98</td>\n",
       "      <td>11.9900</td>\n",
       "    </tr>\n",
       "    <tr>\n",
       "      <th>3</th>\n",
       "      <td>2023-01-05 20:33:00</td>\n",
       "      <td>141237</td>\n",
       "      <td>27in FHD Monitor</td>\n",
       "      <td>3.069157e+12</td>\n",
       "      <td>Sports</td>\n",
       "      <td>738 10th St, Los Angeles, CA 90001</td>\n",
       "      <td>1</td>\n",
       "      <td>149.99</td>\n",
       "      <td>97.4935</td>\n",
       "      <td>149.99</td>\n",
       "      <td>52.4965</td>\n",
       "    </tr>\n",
       "    <tr>\n",
       "      <th>4</th>\n",
       "      <td>2023-01-25 11:59:00</td>\n",
       "      <td>141238</td>\n",
       "      <td>Wired Headphones</td>\n",
       "      <td>9.692681e+12</td>\n",
       "      <td>Électronique</td>\n",
       "      <td>387 10th St, Austin, TX 73301</td>\n",
       "      <td>1</td>\n",
       "      <td>11.99</td>\n",
       "      <td>5.9950</td>\n",
       "      <td>11.99</td>\n",
       "      <td>5.9950</td>\n",
       "    </tr>\n",
       "  </tbody>\n",
       "</table>\n",
       "</div>"
      ]
     },
     "metadata": {
      "application/vnd.databricks.v1+output": {
       "addedWidgets": {},
       "arguments": {},
       "data": "<div>\n<style scoped>\n    .dataframe tbody tr th:only-of-type {\n        vertical-align: middle;\n    }\n\n    .dataframe tbody tr th {\n        vertical-align: top;\n    }\n\n    .dataframe thead th {\n        text-align: right;\n    }\n</style>\n<table border=\"1\" class=\"dataframe\">\n  <thead>\n    <tr style=\"text-align: right;\">\n      <th></th>\n      <th>order_date</th>\n      <th>order_id</th>\n      <th>product</th>\n      <th>product_id</th>\n      <th>category</th>\n      <th>purchase_address</th>\n      <th>quantity_ordered</th>\n      <th>price_each</th>\n      <th>cost_price</th>\n      <th>turnover</th>\n      <th>margin</th>\n    </tr>\n  </thead>\n  <tbody>\n    <tr>\n      <th>0</th>\n      <td>2023-01-22 21:25:00</td>\n      <td>141234</td>\n      <td>iPhone</td>\n      <td>5.638009e+12</td>\n      <td>Vêtements</td>\n      <td>944 Walnut St, Boston, MA 02215</td>\n      <td>1</td>\n      <td>700.00</td>\n      <td>231.0000</td>\n      <td>700.00</td>\n      <td>469.0000</td>\n    </tr>\n    <tr>\n      <th>1</th>\n      <td>2023-01-28 14:15:00</td>\n      <td>141235</td>\n      <td>Lightning Charging Cable</td>\n      <td>5.563320e+12</td>\n      <td>Alimentation</td>\n      <td>185 Maple St, Portland, OR 97035</td>\n      <td>1</td>\n      <td>14.95</td>\n      <td>7.4750</td>\n      <td>14.95</td>\n      <td>7.4750</td>\n    </tr>\n    <tr>\n      <th>2</th>\n      <td>2023-01-17 13:33:00</td>\n      <td>141236</td>\n      <td>Wired Headphones</td>\n      <td>2.113973e+12</td>\n      <td>Vêtements</td>\n      <td>538 Adams St, San Francisco, CA 94016</td>\n      <td>2</td>\n      <td>11.99</td>\n      <td>5.9950</td>\n      <td>23.98</td>\n      <td>11.9900</td>\n    </tr>\n    <tr>\n      <th>3</th>\n      <td>2023-01-05 20:33:00</td>\n      <td>141237</td>\n      <td>27in FHD Monitor</td>\n      <td>3.069157e+12</td>\n      <td>Sports</td>\n      <td>738 10th St, Los Angeles, CA 90001</td>\n      <td>1</td>\n      <td>149.99</td>\n      <td>97.4935</td>\n      <td>149.99</td>\n      <td>52.4965</td>\n    </tr>\n    <tr>\n      <th>4</th>\n      <td>2023-01-25 11:59:00</td>\n      <td>141238</td>\n      <td>Wired Headphones</td>\n      <td>9.692681e+12</td>\n      <td>Électronique</td>\n      <td>387 10th St, Austin, TX 73301</td>\n      <td>1</td>\n      <td>11.99</td>\n      <td>5.9950</td>\n      <td>11.99</td>\n      <td>5.9950</td>\n    </tr>\n  </tbody>\n</table>\n</div>",
       "datasetInfos": [],
       "metadata": {},
       "removedWidgets": [],
       "textData": null,
       "type": "htmlSandbox"
      }
     },
     "output_type": "display_data"
    }
   ],
   "source": [
    "df = spark.read.parquet('dbfs:/FileStore/pyspark-exam/case_1/dataset/orders_data.parquet')\n",
    "df.toPandas().head()"
   ]
  },
  {
   "cell_type": "code",
   "execution_count": 0,
   "metadata": {
    "application/vnd.databricks.v1+cell": {
     "cellMetadata": {
      "byteLimit": 2048000,
      "rowLimit": 10000
     },
     "inputWidgets": {},
     "nuid": "d47f4342-680e-4e7c-bdb5-fc60b0985603",
     "showTitle": false,
     "tableResultSettingsMap": {},
     "title": ""
    }
   },
   "outputs": [
    {
     "output_type": "stream",
     "name": "stdout",
     "output_type": "stream",
     "text": [
      "+----------+--------+-------+----------+--------+----------------+----------------+----------+----------+--------+------+\n|order_date|order_id|product|product_id|category|purchase_address|quantity_ordered|price_each|cost_price|turnover|margin|\n+----------+--------+-------+----------+--------+----------------+----------------+----------+----------+--------+------+\n|     20...|   14...|  iP...|     5....|   Vê...|           94...|               1|     700.0|     231.0|   700.0| 469.0|\n|     20...|   14...|  Li...|     5....|   Al...|           18...|               1|     14.95|     7.475|   14.95| 7.475|\n|     20...|   14...|  Wi...|     2....|   Vê...|           53...|               2|     11.99|     5.995|   23.98| 11.99|\n|     20...|   14...|  27...|     3....|   Sp...|           73...|               1|     14...|     97...|   14...| 52...|\n|     20...|   14...|  Wi...|     9....|   Él...|           38...|               1|     11.99|     5.995|   11.99| 5.995|\n|     20...|   14...|  AA...|     2....|   Al...|           77...|               1|      2.99|     1.495|    2.99| 1.495|\n|     20...|   14...|  27...|     5....|   Vê...|           97...|               1|     38...|     12...|   38...| 26...|\n|     20...|   14...|  US...|     8....|   Vê...|           18...|               1|     11.95|     5.975|   11.95| 5.975|\n|     20...|   14...|  Bo...|     1....|   Él...|           86...|               1|     99.99|     49...|   99.99| 49...|\n|     20...|   14...|  Ap...|     1....|   Él...|           65...|               1|     150.0|      97.5|   150.0|  52.5|\n|     20...|   14...|  Ap...|     4....|   Vê...|           49...|               1|     150.0|      97.5|   150.0|  52.5|\n|     20...|   14...|  Ma...|     1....|   Vê...|           32...|               1|     17...|     561.0|   17...| 11...|\n|     20...|   14...|  AA...|     4....|   Vê...|           61...|               3|      2.99|     1.495|    8.97| 4.485|\n|     20...|   14...|  27...|     7....|   Vê...|           51...|               1|     14...|     97...|   14...| 52...|\n|     20...|   14...|  Fl...|     4....|   Él...|           36...|               1|     300.0|      99.0|   300.0| 201.0|\n|     20...|   14...|  27...|     9....|   Al...|           44...|               1|     14...|     97...|   14...| 52...|\n|     20...|   14...|  Va...|     6....|   Al...|           47...|               1|     400.0|     132.0|   400.0| 268.0|\n|     20...|   14...|  Ap...|     2....|   Al...|           41...|               1|     150.0|      97.5|   150.0|  52.5|\n|     20...|   14...|  US...|     3....|   Sp...|           22...|               1|     11.95|     5.975|   11.95| 5.975|\n|     20...|   14...|  AA...|     6....|   Al...|           38...|               1|      3.84|      1.92|    3.84|  1.92|\n+----------+--------+-------+----------+--------+----------------+----------------+----------+----------+--------+------+\nonly showing top 20 rows\n\n"
     ]
    }
   ],
   "source": [
    "# Mostrar la tabla, para ver como esta antes de realizar la limpieza.\n",
    "df.show(truncate=5)"
   ]
  },
  {
   "cell_type": "markdown",
   "metadata": {
    "application/vnd.databricks.v1+cell": {
     "cellMetadata": {},
     "inputWidgets": {},
     "nuid": "83685abc-c333-4fb3-9417-e2cbfc7acba4",
     "showTitle": false,
     "tableResultSettingsMap": {},
     "title": ""
    }
   },
   "source": [
    "### Respuestas:"
   ]
  },
  {
   "cell_type": "markdown",
   "metadata": {
    "application/vnd.databricks.v1+cell": {
     "cellMetadata": {},
     "inputWidgets": {},
     "nuid": "eb9ca43b-a21a-47e2-a533-352c6c8cde6e",
     "showTitle": false,
     "tableResultSettingsMap": {},
     "title": ""
    }
   },
   "source": [
    "**1. Modificar:** Eliminar pedidos realizados entre las 12 a.m. (00:00) y las 5 a.m. (inclusive); convertir de marca de tiempo a fecha"
   ]
  },
  {
   "cell_type": "code",
   "execution_count": 0,
   "metadata": {
    "application/vnd.databricks.v1+cell": {
     "cellMetadata": {
      "byteLimit": 2048000,
      "rowLimit": 10000
     },
     "inputWidgets": {},
     "nuid": "d84476a5-af08-4136-87f5-4ac798cb3ada",
     "showTitle": false,
     "tableResultSettingsMap": {},
     "title": ""
    }
   },
   "outputs": [
    {
     "output_type": "stream",
     "name": "stdout",
     "output_type": "stream",
     "text": [
      "+----------+----+\n|order_date|hour|\n+----------+----+\n|2023-01-22|  21|\n|2023-01-28|  14|\n|2023-01-17|  13|\n|2023-01-05|  20|\n|2023-01-25|  11|\n|2023-01-29|  20|\n|2023-01-26|  12|\n|2023-01-05|  12|\n|2023-01-01|  10|\n|2023-01-22|  21|\n|2023-01-07|  11|\n|2023-01-31|  10|\n|2023-01-09|  18|\n|2023-01-25|  19|\n|2023-01-03|  21|\n|2023-01-05|  17|\n|2023-01-10|  11|\n|2023-01-24|   8|\n|2023-01-30|   9|\n|2023-01-08|  11|\n+----------+----+\nonly showing top 20 rows\n\n"
     ]
    }
   ],
   "source": [
    "from pyspark.sql.functions import col, hour, to_date, hour\n",
    "\n",
    "# Separar la columna 'order_date' en dos columnas: 'date' y 'hour'\n",
    "df_filter = df.withColumn('hour', hour(col('order_date'))) \\\n",
    "                .withColumn('order_date', to_date(col('order_date')))\n",
    "\n",
    "# Filtrar los registros que están entre las 00:00 y las 05:00 (inclusive)\n",
    "df_filtered = df_filter.filter(~((col('hour') >= 0) & (col('hour') <= 5)))\n",
    "\n",
    "# Ver el dataframe resultante después del filtrado\n",
    "df_filtered.select('order_date', 'hour').show()\n"
   ]
  },
  {
   "cell_type": "markdown",
   "metadata": {
    "application/vnd.databricks.v1+cell": {
     "cellMetadata": {},
     "inputWidgets": {},
     "nuid": "c55c585a-05a4-4a58-9e29-b63a33774547",
     "showTitle": false,
     "tableResultSettingsMap": {},
     "title": ""
    }
   },
   "source": [
    "Para facilitar la eliminacion por horas, agregamos una columna con horas, y transformamos `order_date` en formato `date`, asi al momento de eliminar solo evaluamos la columna `hour` que nos facilita la eliminación de los registros por horas."
   ]
  },
  {
   "cell_type": "markdown",
   "metadata": {
    "application/vnd.databricks.v1+cell": {
     "cellMetadata": {},
     "inputWidgets": {},
     "nuid": "af688b39-614f-4620-bd5a-b7bae774bc79",
     "showTitle": false,
     "tableResultSettingsMap": {},
     "title": ""
    }
   },
   "source": [
    "**2. Nueva columna** que contiene (límite inferior inclusivo, límite superior exclusivo):\n",
    "- \"morning\" para pedidos realizados de 5 a 12 a.m.,\n",
    "- \"afternoon\" para pedidos realizados de 12 a 6 p.m., y\n",
    "- \"evening\" para pedidos realizados de 6 a 12 a.m.\n"
   ]
  },
  {
   "cell_type": "code",
   "execution_count": 0,
   "metadata": {
    "application/vnd.databricks.v1+cell": {
     "cellMetadata": {
      "byteLimit": 2048000,
      "rowLimit": 10000
     },
     "inputWidgets": {},
     "nuid": "375d45cc-5fa2-41ae-adc5-3d1237dc112f",
     "showTitle": false,
     "tableResultSettingsMap": {},
     "title": ""
    }
   },
   "outputs": [
    {
     "output_type": "stream",
     "name": "stdout",
     "output_type": "stream",
     "text": [
      "+----------+----+-----------+\n|order_date|hour|time_of_day|\n+----------+----+-----------+\n|2023-01-22|  21|    evening|\n|2023-01-28|  14|  afternoon|\n|2023-01-17|  13|  afternoon|\n|2023-01-05|  20|    evening|\n|2023-01-25|  11|    morning|\n|2023-01-29|  20|    evening|\n|2023-01-26|  12|  afternoon|\n|2023-01-05|  12|  afternoon|\n|2023-01-01|  10|    morning|\n|2023-01-22|  21|    evening|\n|2023-01-07|  11|    morning|\n|2023-01-31|  10|    morning|\n|2023-01-09|  18|    evening|\n|2023-01-25|  19|    evening|\n|2023-01-03|  21|    evening|\n|2023-01-05|  17|  afternoon|\n|2023-01-10|  11|    morning|\n|2023-01-24|   8|    morning|\n|2023-01-30|   9|    morning|\n|2023-01-17|   0|      night|\n+----------+----+-----------+\nonly showing top 20 rows\n\n"
     ]
    }
   ],
   "source": [
    "from pyspark.sql.functions import col, when\n",
    "\n",
    "# Crear la nueva columna 'time_of_day' basada en la hora de la orden\n",
    "df_filtered = df_filter.withColumn(\n",
    "  'time_of_day',\n",
    "    when((col('hour') >= 5) & (col('hour') < 12), 'morning')  # 5am a 12pm -> \"morning\"\n",
    "    .when((col('hour') >= 12) & (col('hour') < 18), 'afternoon')  # 12pm a 6pm -> \"afternoon\"\n",
    "    .when((col('hour') >= 18) & (col('hour') < 24), 'evening')  # 6pm a 12am -> \"evening\"\n",
    "    .otherwise('night')  # Si no cae en ninguno de los rangos anteriores, asignar \"night\"\n",
    ")\n",
    "\n",
    "# Mostrar el DataFrame resultante con la nueva columna\n",
    "df_filtered.select('order_date', 'hour', 'time_of_day').show()"
   ]
  },
  {
   "cell_type": "markdown",
   "metadata": {
    "application/vnd.databricks.v1+cell": {
     "cellMetadata": {
      "byteLimit": 2048000,
      "rowLimit": 10000
     },
     "inputWidgets": {},
     "nuid": "de882743-3a8e-48e5-81b6-b18b033da1a4",
     "showTitle": false,
     "tableResultSettingsMap": {},
     "title": ""
    },
    "jupyter": {
     "outputs_hidden": true
    }
   },
   "source": [
    "**3. Elimina filas:** que contengan \"TV\" ya que la empresa ha dejado de vender este producto; asegurarse de que todos los valores esten en ninúsculas."
   ]
  },
  {
   "cell_type": "code",
   "execution_count": 0,
   "metadata": {
    "application/vnd.databricks.v1+cell": {
     "cellMetadata": {
      "byteLimit": 2048000,
      "rowLimit": 10000
     },
     "inputWidgets": {},
     "nuid": "645805b4-396f-4dd5-8238-3081929226fa",
     "showTitle": false,
     "tableResultSettingsMap": {},
     "title": ""
    }
   },
   "outputs": [
    {
     "output_type": "stream",
     "name": "stdout",
     "output_type": "stream",
     "text": [
      "Productos con TV antes de filtrar: 0\nProductos con TV después de filtrar: 0\n+--------------------+\n|             product|\n+--------------------+\n|              iphone|\n|lightning chargin...|\n|    wired headphones|\n|    27in fhd monitor|\n|    wired headphones|\n|aaa batteries (4-...|\n|27in 4k gaming mo...|\n|usb-c charging cable|\n|bose soundsport h...|\n|apple airpods hea...|\n|apple airpods hea...|\n|  macbook pro laptop|\n|aaa batteries (4-...|\n|    27in fhd monitor|\n|    27in fhd monitor|\n|     vareebadd phone|\n|apple airpods hea...|\n|usb-c charging cable|\n|aa batteries (4-p...|\n|aaa batteries (4-...|\n+--------------------+\nonly showing top 20 rows\n\n"
     ]
    }
   ],
   "source": [
    "from pyspark.sql.functions import col, lower\n",
    "\n",
    "# Cambiar a minúsculas la columna 'product' en el DataFrame df_filtered\n",
    "df_filtered = df_filtered.withColumn(\"product\", lower(col(\"product\")))\n",
    "\n",
    "# Contar los productos que contienen 'tv' antes de filtrar\n",
    "count_tv_before = df_filtered.filter(col(\"product\").like(\"%tv%\")).count()\n",
    "print(f\"Productos con TV antes de filtrar: {count_tv_before}\")\n",
    "\n",
    "# Filtrar las filas que contienen 'tv' en la columna 'product' (eliminar las que contienen 'tv')\n",
    "df_filtered = df_filtered.filter(~col(\"product\").like(\"%tv%\"))\n",
    "\n",
    "# Contar los productos que contienen 'tv' después de filtrar\n",
    "count_tv_after = df_filtered.filter(col(\"product\").like(\"%tv%\")).count()\n",
    "print(f\"Productos con TV después de filtrar: {count_tv_after}\")\n",
    "df_filtered.select('product').show()\n"
   ]
  },
  {
   "cell_type": "markdown",
   "metadata": {
    "application/vnd.databricks.v1+cell": {
     "cellMetadata": {},
     "inputWidgets": {},
     "nuid": "00f3cc87-4b9d-4a81-b3d6-e2a0f0af1fe9",
     "showTitle": false,
     "tableResultSettingsMap": {},
     "title": ""
    }
   },
   "source": [
    "4. Asegurate que todos los valores sean minúsculas, de la columna `category`."
   ]
  },
  {
   "cell_type": "code",
   "execution_count": 0,
   "metadata": {
    "application/vnd.databricks.v1+cell": {
     "cellMetadata": {
      "byteLimit": 2048000,
      "rowLimit": 10000
     },
     "inputWidgets": {},
     "nuid": "a1e49653-65e4-445e-995f-9c67489a2248",
     "showTitle": false,
     "tableResultSettingsMap": {},
     "title": ""
    }
   },
   "outputs": [
    {
     "output_type": "stream",
     "name": "stdout",
     "output_type": "stream",
     "text": [
      "+------------+\n|    category|\n+------------+\n|   vêtements|\n|alimentation|\n|   vêtements|\n|      sports|\n|électronique|\n|alimentation|\n|   vêtements|\n|   vêtements|\n|électronique|\n|électronique|\n|   vêtements|\n|   vêtements|\n|   vêtements|\n|   vêtements|\n|alimentation|\n|alimentation|\n|alimentation|\n|      sports|\n|alimentation|\n|électronique|\n+------------+\nonly showing top 20 rows\n\n"
     ]
    }
   ],
   "source": [
    "from pyspark.sql.functions import col, lower\n",
    "\n",
    "# Cambiamos a minúscula todo el dataset.\n",
    "df_filtered = df_filtered.withColumn(\"category\", lower(col(\"category\")))\n",
    "\n",
    "df_filtered.select('category').show()"
   ]
  },
  {
   "cell_type": "markdown",
   "metadata": {
    "application/vnd.databricks.v1+cell": {
     "cellMetadata": {},
     "inputWidgets": {},
     "nuid": "5e15d85b-d5e3-474e-9d85-8a200d10b7ed",
     "showTitle": false,
     "tableResultSettingsMap": {},
     "title": ""
    }
   },
   "source": [
    "**5. Nueva columna que contine:** El estado desde el cual se realizó la compra `purchase_state` a partir de mi `purchase_address`"
   ]
  },
  {
   "cell_type": "code",
   "execution_count": 0,
   "metadata": {
    "application/vnd.databricks.v1+cell": {
     "cellMetadata": {
      "byteLimit": 2048000,
      "rowLimit": 10000
     },
     "inputWidgets": {},
     "nuid": "2e5ba4d8-7ea3-4460-8f9d-218e7a907231",
     "showTitle": false,
     "tableResultSettingsMap": {},
     "title": ""
    }
   },
   "outputs": [
    {
     "output_type": "stream",
     "name": "stdout",
     "output_type": "stream",
     "text": [
      "+--------------------+--------------+\n|    purchase_address|purchase_state|\n+--------------------+--------------+\n|944 Walnut St, Bo...|            MA|\n|185 Maple St, Por...|            OR|\n|538 Adams St, San...|            CA|\n|738 10th St, Los ...|            CA|\n|387 10th St, Aust...|            TX|\n|775 Willow St, Sa...|            CA|\n|979 Park St, Los ...|            CA|\n|181 6th St, San F...|            CA|\n|867 Willow St, Lo...|            CA|\n|657 Johnson St, S...|            CA|\n|492 Walnut St, Sa...|            CA|\n|322 6th St, San F...|            CA|\n|618 7th St, Los A...|            CA|\n|512 Wilson St, Sa...|            CA|\n|440 Cedar St, Por...|            OR|\n|471 Center St, Lo...|            CA|\n|414 Walnut St, Bo...|            MA|\n|220 9th St, Los A...|            CA|\n|385 11th St, Atla...|            GA|\n|238 Sunset St, Se...|            WA|\n+--------------------+--------------+\nonly showing top 20 rows\n\n"
     ]
    }
   ],
   "source": [
    "from pyspark.sql.functions import regexp_extract, col\n",
    "\n",
    "# Crear la nueva columna 'purchase_state' extrayendo el estado de la dirección\n",
    "df_filtered = df_filtered.withColumn(\n",
    "    \"purchase_state\", \n",
    "    regexp_extract(col(\"purchase_address\"), r\",\\s*([^,]+)\\s+\\d{5}$\", 1)\n",
    ")\n",
    "\n",
    "# Mostrar el resultado para verificar\n",
    "df_filtered.select('purchase_address', 'purchase_state').show()\n"
   ]
  },
  {
   "cell_type": "markdown",
   "metadata": {
    "application/vnd.databricks.v1+cell": {
     "cellMetadata": {},
     "inputWidgets": {},
     "nuid": "2e1bb2c3-6150-4ecc-b4cc-15047f9c680d",
     "showTitle": false,
     "tableResultSettingsMap": {},
     "title": ""
    }
   },
   "source": [
    "##### 6. Guardar archivo final limpio con nombre `orders_data_clean.parquet` "
   ]
  },
  {
   "cell_type": "code",
   "execution_count": 0,
   "metadata": {
    "application/vnd.databricks.v1+cell": {
     "cellMetadata": {
      "byteLimit": 2048000,
      "rowLimit": 10000
     },
     "inputWidgets": {},
     "nuid": "aa5e2c83-0776-48c9-a9c5-d32135788f18",
     "showTitle": false,
     "tableResultSettingsMap": {},
     "title": ""
    }
   },
   "outputs": [],
   "source": [
    "# Guardar el archivo en formato parquet\n",
    "df_filtered.coalesce(1).write.mode('overwrite').parquet('dbfs:/FileStore/pyspark-exam/case_1/dataset/orders_data_clean.parquet')"
   ]
  },
  {
   "cell_type": "markdown",
   "metadata": {
    "application/vnd.databricks.v1+cell": {
     "cellMetadata": {},
     "inputWidgets": {},
     "nuid": "14391c3a-877a-4b9d-a05a-ff29b5d4ebc3",
     "showTitle": false,
     "tableResultSettingsMap": {},
     "title": ""
    }
   },
   "source": [
    "Cargamos el archivo desde el parquet, para verificar que se ha cargado bien los datos."
   ]
  },
  {
   "cell_type": "code",
   "execution_count": 0,
   "metadata": {
    "application/vnd.databricks.v1+cell": {
     "cellMetadata": {
      "byteLimit": 2048000,
      "rowLimit": 10000
     },
     "inputWidgets": {},
     "nuid": "9a7578e1-ff65-4f4a-8bd6-91784a8546a0",
     "showTitle": false,
     "tableResultSettingsMap": {},
     "title": ""
    }
   },
   "outputs": [
    {
     "output_type": "stream",
     "name": "stdout",
     "output_type": "stream",
     "text": [
      "+--------------------+------------+--------------+\n|             product|    category|purchase_state|\n+--------------------+------------+--------------+\n|              iphone|   vêtements|            MA|\n|lightning chargin...|alimentation|            OR|\n|    wired headphones|   vêtements|            CA|\n|    27in fhd monitor|      sports|            CA|\n|    wired headphones|électronique|            TX|\n+--------------------+------------+--------------+\nonly showing top 5 rows\n\n"
     ]
    }
   ],
   "source": [
    "df_loaded = spark.read.parquet('dbfs:/FileStore/pyspark-exam/case_1/dataset/orders_data_clean.parquet')\n",
    "df_loaded.select('product', 'category', 'purchase_state').show(5)"
   ]
  },
  {
   "cell_type": "markdown",
   "metadata": {
    "application/vnd.databricks.v1+cell": {
     "cellMetadata": {},
     "inputWidgets": {},
     "nuid": "a5eacdae-eb35-432d-b0b2-700fe2fd44f7",
     "showTitle": false,
     "tableResultSettingsMap": {},
     "title": ""
    }
   },
   "source": [
    "##### 7. Exportar archivo limpio en formato CSV "
   ]
  },
  {
   "cell_type": "markdown",
   "metadata": {
    "application/vnd.databricks.v1+cell": {
     "cellMetadata": {},
     "inputWidgets": {},
     "nuid": "2045ce55-f813-49b9-a57c-8a0c7ccbe994",
     "showTitle": false,
     "tableResultSettingsMap": {},
     "title": ""
    }
   },
   "source": [
    "Imprimimos todo el dataframe: `df_filtered` para verificar que ha ido todo bien."
   ]
  },
  {
   "cell_type": "code",
   "execution_count": 0,
   "metadata": {
    "application/vnd.databricks.v1+cell": {
     "cellMetadata": {
      "byteLimit": 2048000,
      "rowLimit": 10000
     },
     "inputWidgets": {},
     "nuid": "4a0b3328-0ba5-47a8-aff7-0252de2b1c0f",
     "showTitle": false,
     "tableResultSettingsMap": {},
     "title": ""
    }
   },
   "outputs": [
    {
     "output_type": "stream",
     "name": "stdout",
     "output_type": "stream",
     "text": [
      "+----------+--------------------+------------+--------------+\n|order_date|             product|    category|purchase_state|\n+----------+--------------------+------------+--------------+\n|2023-01-22|              iphone|   vêtements|            MA|\n|2023-01-28|lightning chargin...|alimentation|            OR|\n|2023-01-17|    wired headphones|   vêtements|            CA|\n|2023-01-05|    27in fhd monitor|      sports|            CA|\n|2023-01-25|    wired headphones|électronique|            TX|\n|2023-01-29|aaa batteries (4-...|alimentation|            CA|\n|2023-01-26|27in 4k gaming mo...|   vêtements|            CA|\n|2023-01-05|usb-c charging cable|   vêtements|            CA|\n|2023-01-01|bose soundsport h...|électronique|            CA|\n|2023-01-22|apple airpods hea...|électronique|            CA|\n|2023-01-07|apple airpods hea...|   vêtements|            CA|\n|2023-01-31|  macbook pro laptop|   vêtements|            CA|\n|2023-01-09|aaa batteries (4-...|   vêtements|            CA|\n|2023-01-25|    27in fhd monitor|   vêtements|            CA|\n|2023-01-05|    27in fhd monitor|alimentation|            OR|\n|2023-01-10|     vareebadd phone|alimentation|            CA|\n|2023-01-24|apple airpods hea...|alimentation|            MA|\n|2023-01-30|usb-c charging cable|      sports|            CA|\n|2023-01-17|aa batteries (4-p...|alimentation|            GA|\n|2023-01-08|aaa batteries (4-...|électronique|            WA|\n+----------+--------------------+------------+--------------+\nonly showing top 20 rows\n\n"
     ]
    }
   ],
   "source": [
    "# He comentado el comando para evitar que pese tanto\n",
    "# df_filtered.display()\n",
    "df_filtered.select('order_date', 'product', 'category', 'purchase_state').show()"
   ]
  },
  {
   "cell_type": "markdown",
   "metadata": {
    "application/vnd.databricks.v1+cell": {
     "cellMetadata": {
      "byteLimit": 2048000,
      "rowLimit": 10000
     },
     "inputWidgets": {},
     "nuid": "f7b0e3ad-09b8-4426-89f7-17bc337b73aa",
     "showTitle": false,
     "tableResultSettingsMap": {},
     "title": ""
    }
   },
   "source": [
    "Para realizar la exportación del `csv`, hacemos un display y luego descargamos todo."
   ]
  }
 ],
 "metadata": {
  "application/vnd.databricks.v1+notebook": {
   "dashboards": [],
   "environmentMetadata": null,
   "language": "python",
   "notebookMetadata": {
    "pythonIndentUnit": 4
   },
   "notebookName": "notebook",
   "widgets": {}
  }
 },
 "nbformat": 4,
 "nbformat_minor": 0
}
