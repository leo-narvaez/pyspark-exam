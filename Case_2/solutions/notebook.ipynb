{
 "cells": [
  {
   "cell_type": "markdown",
   "metadata": {
    "application/vnd.databricks.v1+cell": {
     "cellMetadata": {},
     "inputWidgets": {},
     "nuid": "7bc88472-0819-44bb-a870-05c265cca4c5",
     "showTitle": false,
     "tableResultSettingsMap": {},
     "title": ""
    }
   },
   "source": [
    "# Encontrando insights de la UEFA Champions League"
   ]
  },
  {
   "cell_type": "markdown",
   "metadata": {
    "application/vnd.databricks.v1+cell": {
     "cellMetadata": {},
     "inputWidgets": {},
     "nuid": "dec9c196-3f29-444f-a2f7-13e3827b29ef",
     "showTitle": false,
     "tableResultSettingsMap": {},
     "title": ""
    }
   },
   "source": [
    "La Liga de Campeones de la UEFA, a menudo llamada Liga de Campeones, es una competencia anual de fútbol por excelencia que cautiva a los fanáticos de todo el mundo. Establecida en 1955 como la Copa de Clubes Campeones de Europa, evolucionó a la Liga de Campeones de la UEFA en 1992, ampliando su atractivo. El formato moderno cuenta con 32 equipos de clubes de primer nivel seleccionados en función de su desempeño en la liga nacional, lo que aumenta la intriga.  \n",
    "\n",
    "Este evento electrizante trasciende los deportes y se convierte en una celebración de la unidad, la cultura y el orgullo nacional. Los fanáticos, vestidos con los colores de sus países, crean una atmósfera eléctrica, lo que hace que el torneo sea tanto sobre los espectadores como sobre los jugadores. Financieramente, la Liga de Campeones es un salvavidas para los clubes, ya que aumenta los ingresos y ofrece oportunidades transformadoras. Sin embargo, genera debates sobre las disparidades de riqueza en el fútbol europeo.  \n",
    "\n",
    "La Liga de Campeones es sinónimo de rivalidades históricas, triunfos de los desvalidos y brillantez individual. Para los jugadores, representa la cima de su carrera, mientras que para los fanáticos, es un fenómeno cultural. El himno y los rituales icónicos enriquecen la experiencia futbolística. En 200 palabras, la UEFA Champions League es el epítome de la excelencia del fútbol europeo, que ofrece momentos inolvidables, recompensas económicas y un impacto cultural único, con 32 clubes de primer nivel que se suman a su atractivo."
   ]
  },
  {
   "cell_type": "markdown",
   "metadata": {
    "application/vnd.databricks.v1+cell": {
     "cellMetadata": {},
     "inputWidgets": {},
     "nuid": "3ff8fe53-6686-4ae2-8c5b-662e85535ff5",
     "showTitle": false,
     "tableResultSettingsMap": {},
     "title": ""
    }
   },
   "source": [
    "**Nombres de las tablas o ficheros a utilizar**:  \n",
    "[uefa_2020.csv](https://tajamar365.sharepoint.com/:x:/s/3405-MasterIA2024-2025/EQuW8d16tZJKpYZN6jR480sBgc1IYypAw9hGHKQARS560g?e=7TybBU)  \n",
    "[uefa_2021.csv](https://tajamar365.sharepoint.com/:x:/s/3405-MasterIA2024-2025/ESG8YBrjD3tBky3aGT0MwIABNt_PQxFVVYVlWMnZYUmV8g?e=VrYHtX)  \n",
    "[uefa_2022.csv](https://tajamar365.sharepoint.com/:x:/s/3405-MasterIA2024-2025/Ecf8O8U8sxJLoW9Bkd2ZVzgBb_gZc35mNcprnR9FMlzliQ?e=Vn3a6v)  \n",
    "- Todas las tablas tienen las mismas columnas y data types"
   ]
  },
  {
   "cell_type": "markdown",
   "metadata": {
    "application/vnd.databricks.v1+cell": {
     "cellMetadata": {},
     "inputWidgets": {},
     "nuid": "910b06ac-21ef-4f0c-bb95-9611f90d7635",
     "showTitle": false,
     "tableResultSettingsMap": {},
     "title": ""
    }
   },
   "source": [
    "| Column | Definition | Data type |\n",
    "|--------|------------|-----------|\n",
    "| `STAGE`| Stage of the March | `VARCHAR(50)` |\n",
    "| `DATE` | When the match occurred. | `DATE` |\n",
    "| `PENS` | Did the match end with penalty | `VARCHAR(50)` |\n",
    "| `PENS_HOME_SCORE` | In case of penalty, score by home team | `VARCHAR(50)` |\n",
    "| `PENS_AWAY_SCORE` | In case of penalty, score by away team | `VARCHAR(50)` |\n",
    "| `TEAM_NAME_HOME` | Team home name | `VARCHAR(50)` |\n",
    "| `TEAM_NAME_AWAY`| Team away  name | `VARCHAR(50)` |\n",
    "| `TEAM_HOME_SCORE` | Team home score | `NUMBER` |\n",
    "| `TEAM_AWAY_SCORE` | Team away score | `NUMBER` |\n",
    "| `POSSESSION_HOME` | Ball possession for the home team | `FLOAT` |\n",
    "| `POSSESSION_AWAY` | Ball possession for the away team | `FLOAT` |\n",
    "| `TOTAL_SHOTS_HOME` | Number of shots by the home team | `NUMBER` |\n",
    "| `TOTAL_SHOTS_AWAY` | Number of shots by the away team | `NUMBER`\n",
    "| `SHOTS_ON_TARGET_HOME` | Total shot for home team | `FLOAT` |\n",
    "| `SHOTS_ON_TARGET_AWAY` | Total shot for away team | `FLOAT` |\n",
    "| `DUELS_WON_HOME` | duel win possession of ball - for home team | `NUMBER` |\n",
    "| `DUELS_WON_AWAY` | duel win possession of ball - for away team | `NUMBER` \n",
    "| `PREDICTION_TEAM_HOME_WIN` | Probability of home team to win | `FLOAT` |\n",
    "| `PREDICTION_DRAW` | Probability of draw | `FLOAT` |\n",
    "| `PREDICTION_TEAM_AWAY_WIN` | Probability of away team to win | `FLOAT` |\n",
    "| `LOCATION` | Stadium where the match was held | `VARCHAR(50)` |"
   ]
  },
  {
   "cell_type": "markdown",
   "metadata": {
    "application/vnd.databricks.v1+cell": {
     "cellMetadata": {},
     "inputWidgets": {},
     "nuid": "d1340bbb-1470-475e-97b9-1905ba6be8a1",
     "showTitle": false,
     "tableResultSettingsMap": {},
     "title": ""
    }
   },
   "source": [
    "Cargamos los datos en un dataframe independiente."
   ]
  },
  {
   "cell_type": "code",
   "execution_count": 0,
   "metadata": {
    "application/vnd.databricks.v1+cell": {
     "cellMetadata": {
      "byteLimit": 2048000,
      "rowLimit": 10000
     },
     "inputWidgets": {},
     "nuid": "ec42ceed-8238-487b-b4f7-4ab0489b3009",
     "showTitle": false,
     "tableResultSettingsMap": {},
     "title": ""
    }
   },
   "outputs": [],
   "source": [
    "df_20 = spark.read.format(\"csv\").option(\"header\", \"true\").load(\"dbfs:/FileStore/pyspark-exam/case_2/dataset/uefa_2020.csv\")\n",
    "df_21 = spark.read.format(\"csv\").option(\"header\", \"true\").load(\"dbfs:/FileStore/pyspark-exam/case_2/dataset/uefa_2021.csv\")\n",
    "df_22 = spark.read.format(\"csv\").option(\"header\", \"true\").load(\"dbfs:/FileStore/pyspark-exam/case_2/dataset/uefa_2022.csv\")"
   ]
  },
  {
   "cell_type": "code",
   "execution_count": 0,
   "metadata": {
    "application/vnd.databricks.v1+cell": {
     "cellMetadata": {
      "byteLimit": 2048000,
      "rowLimit": 10000
     },
     "inputWidgets": {},
     "nuid": "1dbf70bc-d080-4ba7-9685-6540cba6b9c7",
     "showTitle": false,
     "tableResultSettingsMap": {},
     "title": ""
    }
   },
   "outputs": [
    {
     "output_type": "stream",
     "name": "stdout",
     "output_type": "stream",
     "text": [
      "+--------------------+-------------------+-------------------+\n|               STAGE|     TEAM_NAME_HOME|     TEAM_NAME_AWAY|\n+--------------------+-------------------+-------------------+\n|              Final |   Manchester City |           Chelsea |\n| Semi-finals seco...|           Chelsea |       Real Madrid |\n| Semi-finals seco...|   Manchester City |               PSG |\n| Semi-finals firs...|               PSG |   Manchester City |\n| Semi-finals firs...|       Real Madrid |           Chelsea |\n| Quarter-finals s...|         Liverpool |       Real Madrid |\n| Quarter-finals s...| Borussia Dortmund |   Manchester City |\n| Quarter-finals s...|               PSG |     Bayern Munich |\n| Quarter-finals s...|           Chelsea |          FC Porto |\n| Quarter-finals f...|          FC Porto |           Chelsea |\n| Quarter-finals f...|     Bayern Munich |               PSG |\n| Quarter-finals f...|       Real Madrid |         Liverpool |\n| Quarter-finals f...|   Manchester City | Borussia Dortmund |\n| Round of 16 seco...|           Chelsea |   Atlético Madrid |\n| Round of 16 seco...|     Bayern Munich |             Lazio |\n| Round of 16 seco...|   Manchester City |     B. M‘Gladbach |\n| Round of 16 seco...|       Real Madrid |          Atalanta |\n| Round of 16 seco...|               PSG |         Barcelona |\n| Round of 16 seco...|         Liverpool |        RB Leipzig |\n| Round of 16 seco...|          Juventus |          FC Porto |\n+--------------------+-------------------+-------------------+\nonly showing top 20 rows\n\n"
     ]
    }
   ],
   "source": [
    "# Mostrarre una parte para verificar que se cargo todo el contenido.\n",
    "df_20.select(\"STAGE\", \"TEAM_NAME_HOME\", \"TEAM_NAME_AWAY\").show()"
   ]
  },
  {
   "cell_type": "code",
   "execution_count": 0,
   "metadata": {
    "application/vnd.databricks.v1+cell": {
     "cellMetadata": {
      "byteLimit": 2048000,
      "rowLimit": 10000
     },
     "inputWidgets": {},
     "nuid": "f73ce870-a1ea-488a-8f72-a8109d13a723",
     "showTitle": false,
     "tableResultSettingsMap": {},
     "title": ""
    }
   },
   "outputs": [
    {
     "output_type": "stream",
     "name": "stdout",
     "output_type": "stream",
     "text": [
      "+--------------------+------------------+------------------+\n|               STAGE|    TEAM_NAME_HOME|    TEAM_NAME_AWAY|\n+--------------------+------------------+------------------+\n|              Final |         Liverpool|       Real Madrid|\n| Semi-finals seco...|       Real Madrid|          Man City|\n| Semi-finals seco...|        Villarreal|         Liverpool|\n| Semi-finals firs...|         Liverpool|        Villarreal|\n| Semi-finals firs...|          Man City|       Real Madrid|\n| Quarter-finals s...|Atl�tico de Madrid|          Man City|\n| Quarter-finals s...|         Liverpool|           Benfica|\n| Quarter-finals s...|       Real Madrid|           Chelsea|\n| Quarter-finals s...|            Bayern|        Villarreal|\n| Quarter-finals f...|        Villarreal|            Bayern|\n| Quarter-finals f...|           Chelsea|       Real Madrid|\n| Quarter-finals f...|           Benfica|         Liverpool|\n| Quarter-finals f...|          Man City|Atl�tico de Madrid|\n| Round of 16 seco...|             Lille|           Chelsea|\n| Round of 16 seco...|          Juventus|        Villarreal|\n| Round of 16 seco...|              Ajax|           Benfica|\n| Round of 16 seco...|        Man United|Atl�tico de Madrid|\n| Round of 16 seco...|          Man City|       Sporting CP|\n| Round of 16 seco...|       Real Madrid|             Paris|\n| Round of 16 seco...|            Bayern|          Salzburg|\n+--------------------+------------------+------------------+\nonly showing top 20 rows\n\n"
     ]
    }
   ],
   "source": [
    "df_21.select(\"STAGE\", \"TEAM_NAME_HOME\", \"TEAM_NAME_AWAY\").show()"
   ]
  },
  {
   "cell_type": "code",
   "execution_count": 0,
   "metadata": {
    "application/vnd.databricks.v1+cell": {
     "cellMetadata": {
      "byteLimit": 2048000,
      "rowLimit": 10000
     },
     "inputWidgets": {},
     "nuid": "a39953df-8d6d-4aab-9d20-22529c197f7d",
     "showTitle": false,
     "tableResultSettingsMap": {},
     "title": ""
    }
   },
   "outputs": [
    {
     "output_type": "stream",
     "name": "stdout",
     "output_type": "stream",
     "text": [
      "+--------------------+-------------------+----------------+\n|               STAGE|     TEAM_NAME_HOME|  TEAM_NAME_AWAY|\n+--------------------+-------------------+----------------+\n| Group stage: Mat...|      Dinamo Zagreb|         Chelsea|\n| Group stage: Mat...|           Salzburg|        AC Milan|\n| Group stage: Mat...|             Celtic|     Real Madrid|\n| Group stage: Mat...|         RB Leipzig|Shakhtar Donetsk|\n| Group stage: Mat...|  Borussia Dortmund|       K�benhavn|\n| Group stage: Mat...|            Sevilla| Manchester City|\n| Group stage: Mat...|Paris Saint-Germain|        Juventus|\n| Group stage: Mat...|            Benfica|   Maccabi Haifa|\n| Group stage: Mat...|               Ajax|         Rangers|\n| Group stage: Mat...|             Napoli|       Liverpool|\n| Group stage: Mat...|    Atletico Madrid|           Porto|\n| Group stage: Mat...|        Club Brugge|Bayer Leverkusen|\n| Group stage: Mat...|     Internazionale|   Bayern Munich|\n| Group stage: Mat...|          Barcelona|  Viktoria Plze?|\n| Group stage: Mat...|Eintracht Frankfurt|     Sporting CP|\n| Group stage: Mat...|  Tottenham Hotspur|       Marseille|\n| Group stage: Mat...|          Liverpool|            Ajax|\n| Group stage: Mat...|            Rangers|          Napoli|\n| Group stage: Mat...|   Bayer Leverkusen| Atletico Madrid|\n| Group stage: Mat...|              Porto|     Club Brugge|\n+--------------------+-------------------+----------------+\nonly showing top 20 rows\n\n"
     ]
    }
   ],
   "source": [
    "df_22.select(\"STAGE\", \"TEAM_NAME_HOME\", \"TEAM_NAME_AWAY\").show()"
   ]
  },
  {
   "cell_type": "markdown",
   "metadata": {
    "application/vnd.databricks.v1+cell": {
     "cellMetadata": {},
     "inputWidgets": {},
     "nuid": "b6ed3067-8a31-45a7-9120-766336560fef",
     "showTitle": false,
     "tableResultSettingsMap": {},
     "title": ""
    }
   },
   "source": [
    "### Requerimientos:  \n",
    "-Puedes utilizar SQL o PySpark"
   ]
  },
  {
   "cell_type": "markdown",
   "metadata": {
    "application/vnd.databricks.v1+cell": {
     "cellMetadata": {},
     "inputWidgets": {},
     "nuid": "96872dad-7ed6-4372-84e9-763aa2d6c83f",
     "showTitle": false,
     "tableResultSettingsMap": {},
     "title": ""
    }
   },
   "source": [
    "1. Encuentra los 3 equipos que anotaron más goles jugando en su estadio en la UEFA Champions League 2020-21. El resultado debe contener dos columnas: TEAM_NAME_HOME y TEAM_HOME_SCORE ordenadas en orden descendente de TEAM_HOME_SCORE. Guarda la consulta (o el notebook) como TEAM_HOME_WITH_MOST_GOALS."
   ]
  },
  {
   "cell_type": "markdown",
   "metadata": {
    "application/vnd.databricks.v1+cell": {
     "cellMetadata": {},
     "inputWidgets": {},
     "nuid": "f7137032-c6ba-48fb-bb23-1d95d5fd5539",
     "showTitle": false,
     "tableResultSettingsMap": {},
     "title": ""
    }
   },
   "source": [
    "Vamos agrupar por equipo local y sumar los goles anotados."
   ]
  },
  {
   "cell_type": "code",
   "execution_count": 0,
   "metadata": {
    "application/vnd.databricks.v1+cell": {
     "cellMetadata": {
      "byteLimit": 2048000,
      "rowLimit": 10000
     },
     "inputWidgets": {},
     "nuid": "e0e13446-7177-4f9a-8e22-52aa3443607c",
     "showTitle": false,
     "tableResultSettingsMap": {},
     "title": ""
    }
   },
   "outputs": [
    {
     "output_type": "stream",
     "name": "stdout",
     "output_type": "stream",
     "text": [
      "+--------------------+---------------+\n|      TEAM_NAME_HOME|TEAM_HOME_SCORE|\n+--------------------+---------------+\n|              Zenit |            3.0|\n|            Sevilla |            6.0|\n|      Bayern Munich |           13.0|\n|              Inter |            2.0|\n|           Salzburg |            4.0|\n|        Dynamo Kyiv |            1.0|\n|         Olympiacos |            1.0|\n|          Liverpool |            5.0|\n|    Atlético Madrid |            4.0|\n|           Juventus |            8.0|\n|      B. M‘Gladbach |            8.0|\n| İstanbul Başakşe...|            5.0|\n|  Manchester United |           10.0|\n|   Lokomotiv Moscow |            3.0|\n|   Shakhtar Donetsk |            2.0|\n|         RB Leipzig |            7.0|\n|             Rennes |            3.0|\n|        Real Madrid |           14.0|\n|           FC Porto |            7.0|\n|            Chelsea |            8.0|\n+--------------------+---------------+\nonly showing top 20 rows\n\n"
     ]
    }
   ],
   "source": [
    "from pyspark.sql import functions as F\n",
    "\n",
    "df_goals = df_20.groupBy(\"TEAM_NAME_HOME\").agg(\n",
    "  F.sum(\"TEAM_HOME_SCORE\").alias(\"TEAM_HOME_SCORE\")\n",
    ")\n",
    "\n",
    "df_goals.show()"
   ]
  },
  {
   "cell_type": "markdown",
   "metadata": {
    "application/vnd.databricks.v1+cell": {
     "cellMetadata": {},
     "inputWidgets": {},
     "nuid": "3d2c5fa7-da2b-4491-ab25-e50738e646e6",
     "showTitle": false,
     "tableResultSettingsMap": {},
     "title": ""
    }
   },
   "source": [
    "Ahora vamos a ordenar los equipos segun la cantidad de goles anotados y limitamos a solo 3 equipos"
   ]
  },
  {
   "cell_type": "code",
   "execution_count": 0,
   "metadata": {
    "application/vnd.databricks.v1+cell": {
     "cellMetadata": {
      "byteLimit": 2048000,
      "rowLimit": 10000
     },
     "inputWidgets": {},
     "nuid": "9dd68fe4-e950-4f8e-b5bd-2ac1e5474455",
     "showTitle": false,
     "tableResultSettingsMap": {},
     "title": ""
    }
   },
   "outputs": [
    {
     "output_type": "stream",
     "name": "stdout",
     "output_type": "stream",
     "text": [
      "+-----------------+---------------+\n|   TEAM_NAME_HOME|TEAM_HOME_SCORE|\n+-----------------+---------------+\n| Manchester City |           15.0|\n|     Real Madrid |           14.0|\n|   Bayern Munich |           13.0|\n+-----------------+---------------+\n\n"
     ]
    }
   ],
   "source": [
    "df_goals = df_goals.orderBy(F.col(\"TEAM_HOME_SCORE\").desc()).limit(3)\n",
    "df_goals.show()"
   ]
  },
  {
   "cell_type": "markdown",
   "metadata": {
    "application/vnd.databricks.v1+cell": {
     "cellMetadata": {},
     "inputWidgets": {},
     "nuid": "dd1eaf9b-17fa-4b81-b1be-a99af8f1a8cb",
     "showTitle": false,
     "tableResultSettingsMap": {},
     "title": ""
    }
   },
   "source": [
    "Guardamos el resultado final en un nuevo dataframe"
   ]
  },
  {
   "cell_type": "code",
   "execution_count": 0,
   "metadata": {
    "application/vnd.databricks.v1+cell": {
     "cellMetadata": {
      "byteLimit": 2048000,
      "rowLimit": 10000
     },
     "inputWidgets": {},
     "nuid": "6bd20f8c-83e8-460b-b9d5-628598a01a63",
     "showTitle": false,
     "tableResultSettingsMap": {},
     "title": ""
    }
   },
   "outputs": [
    {
     "output_type": "stream",
     "name": "stdout",
     "output_type": "stream",
     "text": [
      "+--------------------+---------------+\n|      TEAM_NAME_HOME|TEAM_HOME_SCORE|\n+--------------------+---------------+\n|              Zenit |            3.0|\n|            Sevilla |            6.0|\n|      Bayern Munich |           13.0|\n|              Inter |            2.0|\n|           Salzburg |            4.0|\n|        Dynamo Kyiv |            1.0|\n|         Olympiacos |            1.0|\n|          Liverpool |            5.0|\n|    Atlético Madrid |            4.0|\n|           Juventus |            8.0|\n|      B. M‘Gladbach |            8.0|\n| İstanbul Başakşe...|            5.0|\n|  Manchester United |           10.0|\n|   Lokomotiv Moscow |            3.0|\n|   Shakhtar Donetsk |            2.0|\n|         RB Leipzig |            7.0|\n|             Rennes |            3.0|\n|        Real Madrid |           14.0|\n|           FC Porto |            7.0|\n|            Chelsea |            8.0|\n+--------------------+---------------+\nonly showing top 20 rows\n\n"
     ]
    }
   ],
   "source": [
    "# Guardar el resultado en TEAM_HOME_WITH_MOST_GOALS\n",
    "TEAM_HOME_WITH_MOST_GOALS = df_goals\n",
    "\n",
    "# Mostrar el resultado final\n",
    "TEAM_HOME_WITH_MOST_GOALS.show()\n"
   ]
  },
  {
   "cell_type": "markdown",
   "metadata": {
    "application/vnd.databricks.v1+cell": {
     "cellMetadata": {},
     "inputWidgets": {},
     "nuid": "b375e92e-5c96-4ee8-8c35-29b8e7ab887f",
     "showTitle": false,
     "tableResultSettingsMap": {},
     "title": ""
    }
   },
   "source": [
    "2. Encuentra el equipo con posesión mayoritaria la mayor cantidad de veces durante la UEFA Champions League 2021-22. El resultado debe incluir dos columnas: TEAM_NAME y GAME_COUNT, que es la cantidad de veces que el equipo tuvo posesión mayoritaria durante un partido de fútbol. Guarda esta consulta (o el notebook) como TEAM_WITH_MAJORITY_POSSESSION"
   ]
  },
  {
   "cell_type": "markdown",
   "metadata": {
    "application/vnd.databricks.v1+cell": {
     "cellMetadata": {},
     "inputWidgets": {},
     "nuid": "92d60c6e-a143-4ace-99bd-9ac72932fe6b",
     "showTitle": false,
     "tableResultSettingsMap": {},
     "title": ""
    }
   },
   "source": [
    "Primero vamos a calcular las veces que el equipo ha tenido mayor posesión tanto de visita como de local, para eso vamos a transformar los valores porcentuntiales de `POSSESSION_HOME` y `POSSESSION_AWAY` a numéricos."
   ]
  },
  {
   "cell_type": "code",
   "execution_count": 0,
   "metadata": {
    "application/vnd.databricks.v1+cell": {
     "cellMetadata": {
      "byteLimit": 2048000,
      "rowLimit": 10000
     },
     "inputWidgets": {},
     "nuid": "beb933a4-823d-409b-8ae9-79309be1de36",
     "showTitle": false,
     "tableResultSettingsMap": {},
     "title": ""
    }
   },
   "outputs": [
    {
     "output_type": "stream",
     "name": "stdout",
     "output_type": "stream",
     "text": [
      "+---------------+---------------+\n|POSSESSION_HOME|POSSESSION_AWAY|\n+---------------+---------------+\n|           50.0|           50.0|\n|           44.0|           56.0|\n|           44.0|           56.0|\n|           74.0|           26.0|\n|           60.0|           40.0|\n|           39.0|           61.0|\n|           67.0|           33.0|\n|           43.0|           57.0|\n|           68.0|           32.0|\n|           38.0|           62.0|\n|           58.0|           42.0|\n|           34.0|           66.0|\n|           71.0|           29.0|\n|           44.0|           56.0|\n|           59.0|           41.0|\n|           69.0|           31.0|\n|           61.0|           39.0|\n|           69.0|           31.0|\n|           44.0|           56.0|\n|           73.0|           27.0|\n+---------------+---------------+\nonly showing top 20 rows\n\n"
     ]
    }
   ],
   "source": [
    "from pyspark.sql import functions as F\n",
    "\n",
    "# Convertimos los valores de % a valores numéricos\n",
    "df_21 = df_21.withColumn(\"POSSESSION_HOME\", F.regexp_replace(F.col(\"POSSESSION_HOME\"), \"%\", \"\").cast(\"float\"))\n",
    "df_21 = df_21.withColumn(\"POSSESSION_AWAY\", F.regexp_replace(F.col(\"POSSESSION_AWAY\"), \"%\", \"\").cast(\"float\"))\n",
    "\n",
    "df_21.select(\"POSSESSION_HOME\", \"POSSESSION_AWAY\").show()"
   ]
  },
  {
   "cell_type": "markdown",
   "metadata": {
    "application/vnd.databricks.v1+cell": {
     "cellMetadata": {},
     "inputWidgets": {},
     "nuid": "444a2eeb-5f05-47b7-a0c7-4da9e9e5f268",
     "showTitle": false,
     "tableResultSettingsMap": {},
     "title": ""
    }
   },
   "source": [
    "Ahora vamos a cear una columna para saber las veces que los equipos tuvieron la mayor posesión tanto de visitante como de local."
   ]
  },
  {
   "cell_type": "code",
   "execution_count": 0,
   "metadata": {
    "application/vnd.databricks.v1+cell": {
     "cellMetadata": {
      "byteLimit": 2048000,
      "rowLimit": 10000
     },
     "inputWidgets": {},
     "nuid": "9646543d-8450-43dc-a4f1-6f154292f21f",
     "showTitle": false,
     "tableResultSettingsMap": {},
     "title": ""
    }
   },
   "outputs": [
    {
     "output_type": "stream",
     "name": "stdout",
     "output_type": "stream",
     "text": [
      "+---------------------+---------------------+\n|HOME_POSSESSION_MAJOR|AWAY_POSSESSION_MAJOR|\n+---------------------+---------------------+\n|                    0|                    0|\n|                    0|                    1|\n|                    0|                    1|\n|                    1|                    0|\n|                    1|                    0|\n|                    0|                    1|\n|                    1|                    0|\n|                    0|                    1|\n|                    1|                    0|\n|                    0|                    1|\n|                    1|                    0|\n|                    0|                    1|\n|                    1|                    0|\n|                    0|                    1|\n|                    1|                    0|\n|                    1|                    0|\n|                    1|                    0|\n|                    1|                    0|\n|                    0|                    1|\n|                    1|                    0|\n+---------------------+---------------------+\nonly showing top 20 rows\n\n"
     ]
    }
   ],
   "source": [
    "# Creamos una columna que indique si el equipo local tuvo posesión mayoritaria\n",
    "df_21 = df_21.withColumn(\"HOME_POSSESSION_MAJOR\", F.when(\n",
    "    F.col(\"POSSESSION_HOME\") > 50, 1).otherwise(0)\n",
    ")\n",
    "\n",
    "# Creamos una columna que indique si el equipo visitante tuvo posesión mayoritaria\n",
    "df_21 = df_21.withColumn(\"AWAY_POSSESSION_MAJOR\", F.when(\n",
    "    F.col(\"POSSESSION_AWAY\") > 50, 1).otherwise(0)\n",
    ")\n",
    "\n",
    "df_21.select(\"HOME_POSSESSION_MAJOR\", \"AWAY_POSSESSION_MAJOR\").show()\n"
   ]
  },
  {
   "cell_type": "markdown",
   "metadata": {
    "application/vnd.databricks.v1+cell": {
     "cellMetadata": {},
     "inputWidgets": {},
     "nuid": "aef4ae15-4fe2-4fcf-af7f-5f62834693e9",
     "showTitle": false,
     "tableResultSettingsMap": {},
     "title": ""
    }
   },
   "source": [
    "Ahora vamos a contar el total de partidos que tuvo posesión mayoritaria."
   ]
  },
  {
   "cell_type": "code",
   "execution_count": 0,
   "metadata": {
    "application/vnd.databricks.v1+cell": {
     "cellMetadata": {
      "byteLimit": 2048000,
      "rowLimit": 10000
     },
     "inputWidgets": {},
     "nuid": "24426366-dcc9-4ed1-a359-284f2bfd4b58",
     "showTitle": false,
     "tableResultSettingsMap": {},
     "title": ""
    }
   },
   "outputs": [
    {
     "output_type": "stream",
     "name": "stdout",
     "output_type": "stream",
     "text": [
      "+----------------+----------+\n|  TEAM_NAME_HOME|GAME_COUNT|\n+----------------+----------+\n|        Salzburg|         0|\n|           Malmo|         0|\n|        Besiktas|         0|\n|      Liverpool |         0|\n|Shakhtar Donetsk|         1|\n|        Man City|         3|\n|           Lille|         0|\n|         Sheriff|         0|\n|            Ajax|         2|\n|          Beyern|         0|\n|            null|         0|\n|          Bayern|         3|\n|      Villarreal|         1|\n|     Real Madrid|         1|\n|      Salzburg\\n|         0|\n|      Atalanta\\n|         0|\n|           Paris|         2|\n|           Milan|         0|\n|     Dynamo Kyiv|         0|\n|       Barcelona|         0|\n+----------------+----------+\nonly showing top 20 rows\n\n"
     ]
    }
   ],
   "source": [
    "# Contamos cuántos partidos tuvo posesión mayoritaria el equipo local y el visitante\n",
    "df_home_major = df_21.groupBy(\"TEAM_NAME_HOME\").agg(F.sum(\"HOME_POSSESSION_MAJOR\").alias(\"GAME_COUNT\"))\n",
    "df_away_major = df_21.groupBy(\"TEAM_NAME_AWAY\").agg(F.sum(\"AWAY_POSSESSION_MAJOR\").alias(\"GAME_COUNT\"))\n",
    "\n",
    "#  Unimos los dos DataFrames para obtener el total de veces que cada equipo tuvo posesión mayoritaria\n",
    "df_major_possession = df_home_major.union(df_away_major)\n",
    "\n",
    "df_major_possession.show()"
   ]
  },
  {
   "cell_type": "code",
   "execution_count": 0,
   "metadata": {
    "application/vnd.databricks.v1+cell": {
     "cellMetadata": {
      "byteLimit": 2048000,
      "rowLimit": 10000
     },
     "inputWidgets": {},
     "nuid": "c478d05b-65af-4dfa-80c0-631bde3101f7",
     "showTitle": false,
     "tableResultSettingsMap": {},
     "title": ""
    }
   },
   "outputs": [
    {
     "output_type": "stream",
     "name": "stdout",
     "output_type": "stream",
     "text": [
      "+----------------+----------+\n|  TEAM_NAME_HOME|GAME_COUNT|\n+----------------+----------+\n|       Liverpool|         9|\n|        Man City|         7|\n|          Bayern|         7|\n|            Ajax|         6|\n|         Chelsea|         6|\n|           Paris|         5|\n|      Man United|         5|\n|        Juventus|         5|\n|     Real Madrid|         4|\n|       Wolfsburg|         4|\n|Shakhtar Donetsk|         3|\n|      Villarreal|         3|\n|           Milan|         3|\n|           Zenit|         3|\n|        FC Porto|         3|\n|      Young Boys|         3|\n|        Atalanta|         3|\n|         Leipzig|         3|\n|     Sporting CP|         2|\n|     Club Brugge|         2|\n+----------------+----------+\nonly showing top 20 rows\n\n"
     ]
    }
   ],
   "source": [
    "# Contamos cuántas veces cada equipo tuvo posesión mayoritaria y ordenarlos en orden descendente\n",
    "df_major_possession = df_major_possession.groupBy(\"TEAM_NAME_HOME\").agg(F.sum(\"GAME_COUNT\").alias(\"GAME_COUNT\"))\n",
    "df_major_possession = df_major_possession.orderBy(F.col(\"GAME_COUNT\").desc())\n",
    "\n",
    "# Mostramos el resultado final\n",
    "df_major_possession.show()"
   ]
  },
  {
   "cell_type": "markdown",
   "metadata": {
    "application/vnd.databricks.v1+cell": {
     "cellMetadata": {},
     "inputWidgets": {},
     "nuid": "8849be69-a2df-4b85-b566-76d35f0e0d23",
     "showTitle": false,
     "tableResultSettingsMap": {},
     "title": ""
    }
   },
   "source": [
    "Y ahora guardamos todo en `TEAM_WITH_MAJORITY_POSSESSION`"
   ]
  },
  {
   "cell_type": "code",
   "execution_count": 0,
   "metadata": {
    "application/vnd.databricks.v1+cell": {
     "cellMetadata": {
      "byteLimit": 2048000,
      "rowLimit": 10000
     },
     "inputWidgets": {},
     "nuid": "1ef61aab-1d2a-4b1c-b515-a7102fed7fb9",
     "showTitle": false,
     "tableResultSettingsMap": {},
     "title": ""
    }
   },
   "outputs": [
    {
     "output_type": "stream",
     "name": "stdout",
     "output_type": "stream",
     "text": [
      "+----------------+----------+\n|  TEAM_NAME_HOME|GAME_COUNT|\n+----------------+----------+\n|       Liverpool|         9|\n|        Man City|         7|\n|          Bayern|         7|\n|            Ajax|         6|\n|         Chelsea|         6|\n|           Paris|         5|\n|      Man United|         5|\n|        Juventus|         5|\n|     Real Madrid|         4|\n|       Wolfsburg|         4|\n|Shakhtar Donetsk|         3|\n|      Villarreal|         3|\n|           Milan|         3|\n|           Zenit|         3|\n|        FC Porto|         3|\n|      Young Boys|         3|\n|        Atalanta|         3|\n|         Leipzig|         3|\n|     Sporting CP|         2|\n|     Club Brugge|         2|\n+----------------+----------+\nonly showing top 20 rows\n\n"
     ]
    }
   ],
   "source": [
    "TEAM_WITH_MAJORITY_POSSESSION = df_major_possession\n",
    "TEAM_WITH_MAJORITY_POSSESSION.show()"
   ]
  },
  {
   "cell_type": "markdown",
   "metadata": {
    "application/vnd.databricks.v1+cell": {
     "cellMetadata": {},
     "inputWidgets": {},
     "nuid": "7c960a38-f12d-4b88-aaad-b70de0c2323f",
     "showTitle": false,
     "tableResultSettingsMap": {},
     "title": ""
    }
   },
   "source": [
    "3. Encuentra la lista de equipos de cada fase del juego que ganaron el duelo en un partido pero terminaron perdiendo el juego en el Campeonato de la UEFA 2022-23. El resultado debe contener dos columnas: STAGE y TEAM_LOST. Guarda la consulta (o el notebook) como TEAM_WON_DUEL_LOST_GAME_STAGE_WISE."
   ]
  },
  {
   "cell_type": "markdown",
   "metadata": {
    "application/vnd.databricks.v1+cell": {
     "cellMetadata": {},
     "inputWidgets": {},
     "nuid": "25f86023-e29c-436d-aa0f-f537f67232b3",
     "showTitle": false,
     "tableResultSettingsMap": {},
     "title": ""
    }
   },
   "source": [
    "Primero vamos cambiar de formato porcentual a númerico, esto facilita a la hora de realizar las condiciones.\n"
   ]
  },
  {
   "cell_type": "code",
   "execution_count": 0,
   "metadata": {
    "application/vnd.databricks.v1+cell": {
     "cellMetadata": {
      "byteLimit": 2048000,
      "rowLimit": 10000
     },
     "inputWidgets": {},
     "nuid": "cca82adf-aa10-4383-82ec-482af9fd7a47",
     "showTitle": false,
     "tableResultSettingsMap": {},
     "title": ""
    }
   },
   "outputs": [
    {
     "output_type": "stream",
     "name": "stdout",
     "output_type": "stream",
     "text": [
      "+--------------+--------------+\n|DUELS_WON_HOME|DUELS_WON_AWAY|\n+--------------+--------------+\n|          44.0|          56.0|\n|          38.0|          62.0|\n|          46.0|          54.0|\n|          47.0|          53.0|\n|          49.0|          51.0|\n|          42.0|          58.0|\n|          36.0|          64.0|\n|          46.0|          54.0|\n|          47.0|          53.0|\n|          44.0|          56.0|\n|          45.0|          55.0|\n|          44.0|          56.0|\n|          45.0|          55.0|\n|          43.0|          57.0|\n|          42.0|          58.0|\n|          45.0|          55.0|\n|          48.0|          52.0|\n|          48.0|          52.0|\n|          42.0|          58.0|\n|          35.0|          65.0|\n+--------------+--------------+\nonly showing top 20 rows\n\n"
     ]
    }
   ],
   "source": [
    "from pyspark.sql import functions as F\n",
    "\n",
    "# Convertimos los valores de % a valores numéricos\n",
    "df_22 = df_22.withColumn(\"DUELS_WON_HOME\", F.regexp_replace(F.col(\"DUELS_WON_HOME\"), \"%\", \"\").cast(\"float\"))\n",
    "df_22 = df_22.withColumn(\"DUELS_WON_AWAY\", F.regexp_replace(F.col(\"DUELS_WON_AWAY\"), \"%\", \"\").cast(\"float\"))\n",
    "\n",
    "df_22.select(\"DUELS_WON_HOME\", \"DUELS_WON_AWAY\").show()"
   ]
  },
  {
   "cell_type": "markdown",
   "metadata": {
    "application/vnd.databricks.v1+cell": {
     "cellMetadata": {},
     "inputWidgets": {},
     "nuid": "36b15644-8535-407a-b62a-7091a4af11fc",
     "showTitle": false,
     "tableResultSettingsMap": {},
     "title": ""
    }
   },
   "source": [
    "Ahora vamos a identificar cúal equipo es el que tiene más duelos ganados."
   ]
  },
  {
   "cell_type": "code",
   "execution_count": 0,
   "metadata": {
    "application/vnd.databricks.v1+cell": {
     "cellMetadata": {
      "byteLimit": 2048000,
      "rowLimit": 10000
     },
     "inputWidgets": {},
     "nuid": "5b5a904a-58be-4e45-8a29-d16b3b8fa65f",
     "showTitle": false,
     "tableResultSettingsMap": {},
     "title": ""
    }
   },
   "outputs": [
    {
     "output_type": "stream",
     "name": "stdout",
     "output_type": "stream",
     "text": [
      "+--------------------+-------------------+----------------+--------------+--------------+----------------+\n|               STAGE|     TEAM_NAME_HOME|  TEAM_NAME_AWAY|DUELS_WON_HOME|DUELS_WON_AWAY|  TEAM_WIN_DUELS|\n+--------------------+-------------------+----------------+--------------+--------------+----------------+\n| Group stage: Mat...|      Dinamo Zagreb|         Chelsea|          44.0|          56.0|         Chelsea|\n| Group stage: Mat...|           Salzburg|        AC Milan|          38.0|          62.0|        AC Milan|\n| Group stage: Mat...|             Celtic|     Real Madrid|          46.0|          54.0|     Real Madrid|\n| Group stage: Mat...|         RB Leipzig|Shakhtar Donetsk|          47.0|          53.0|Shakhtar Donetsk|\n| Group stage: Mat...|  Borussia Dortmund|       K�benhavn|          49.0|          51.0|       K�benhavn|\n| Group stage: Mat...|            Sevilla| Manchester City|          42.0|          58.0| Manchester City|\n| Group stage: Mat...|Paris Saint-Germain|        Juventus|          36.0|          64.0|        Juventus|\n| Group stage: Mat...|            Benfica|   Maccabi Haifa|          46.0|          54.0|   Maccabi Haifa|\n| Group stage: Mat...|               Ajax|         Rangers|          47.0|          53.0|         Rangers|\n| Group stage: Mat...|             Napoli|       Liverpool|          44.0|          56.0|       Liverpool|\n+--------------------+-------------------+----------------+--------------+--------------+----------------+\nonly showing top 10 rows\n\n"
     ]
    }
   ],
   "source": [
    "from pyspark.sql import functions as F\n",
    "\n",
    "# Verificamos cúal equipo gano mas duelos en el partido\n",
    "df_22 = df_22.withColumn(\n",
    "  \"TEAM_WIN_DUELS\",\n",
    "  F.when(F.col(\"DUELS_WON_HOME\") > F.col(\"DUELS_WON_AWAY\"), F.col(\"TEAM_NAME_HOME\"))\n",
    "  .when(F.col(\"DUELS_WON_HOME\") < F.col(\"DUELS_WON_AWAY\"), F.col(\"TEAM_NAME_AWAY\"))\n",
    "  .otherwise(F.lit(None)) # para verificar si los duelos son iguales.\n",
    ")\n",
    "\n",
    "df_22.select(\"STAGE\", \"TEAM_NAME_HOME\", \"TEAM_NAME_AWAY\",  \"DUELS_WON_HOME\", \"DUELS_WON_AWAY\",\"TEAM_WIN_DUELS\").show(10)"
   ]
  },
  {
   "cell_type": "markdown",
   "metadata": {
    "application/vnd.databricks.v1+cell": {
     "cellMetadata": {},
     "inputWidgets": {},
     "nuid": "1ca17c50-c6fe-4a66-bfaf-c9f1ee3e1cad",
     "showTitle": false,
     "tableResultSettingsMap": {},
     "title": ""
    }
   },
   "source": [
    "Ahora vamos a determinar que equipo ganó más duelos pero perdió el partido."
   ]
  },
  {
   "cell_type": "code",
   "execution_count": 0,
   "metadata": {
    "application/vnd.databricks.v1+cell": {
     "cellMetadata": {
      "byteLimit": 2048000,
      "rowLimit": 10000
     },
     "inputWidgets": {},
     "nuid": "657698de-6b19-488c-af9f-5a77b2764c31",
     "showTitle": false,
     "tableResultSettingsMap": {},
     "title": ""
    }
   },
   "outputs": [
    {
     "output_type": "stream",
     "name": "stdout",
     "output_type": "stream",
     "text": [
      "+--------------------+-------------+\n|               STAGE|    TEAM_LOST|\n+--------------------+-------------+\n| Group stage: Mat...|      Chelsea|\n| Group stage: Mat...|         null|\n| Group stage: Mat...|         null|\n| Group stage: Mat...|         null|\n| Group stage: Mat...|    K�benhavn|\n| Group stage: Mat...|         null|\n| Group stage: Mat...|     Juventus|\n| Group stage: Mat...|Maccabi Haifa|\n| Group stage: Mat...|      Rangers|\n| Group stage: Mat...|    Liverpool|\n+--------------------+-------------+\nonly showing top 10 rows\n\n"
     ]
    }
   ],
   "source": [
    "# Determinamos el equipo que haya ganado en duelos pero perdió el partido.\n",
    "df_22 = df_22.withColumn(\n",
    "    \"TEAM_LOST\",\n",
    "    F.when(\n",
    "        (F.col(\"TEAM_WIN_DUELS\") == F.col(\"TEAM_NAME_HOME\")) & (F.col(\"TEAM_HOME_SCORE\") < F.col(\"TEAM_AWAY_SCORE\")), F.col(\"TEAM_NAME_HOME\")\n",
    "    )\n",
    "    .when(\n",
    "        (F.col(\"TEAM_WIN_DUELS\") == F.col(\"TEAM_NAME_AWAY\")) & (F.col(\"TEAM_HOME_SCORE\") > F.col(\"TEAM_AWAY_SCORE\")), F.col(\"TEAM_NAME_AWAY\")\n",
    "    )\n",
    "    .otherwise(F.lit(None))\n",
    ")\n",
    "\n",
    "df_22.select(\"STAGE\", \"TEAM_LOST\").show(10)\n",
    "\n"
   ]
  },
  {
   "cell_type": "markdown",
   "metadata": {
    "application/vnd.databricks.v1+cell": {
     "cellMetadata": {},
     "inputWidgets": {},
     "nuid": "dba20ca3-4b0e-4f6f-9f2b-8f8cc960a4d0",
     "showTitle": false,
     "tableResultSettingsMap": {},
     "title": ""
    }
   },
   "source": [
    "Guardamos todo en: `TEAM_WON_DUEL_LOST_GAME_STAGE_WISE`"
   ]
  },
  {
   "cell_type": "code",
   "execution_count": 0,
   "metadata": {
    "application/vnd.databricks.v1+cell": {
     "cellMetadata": {
      "byteLimit": 2048000,
      "rowLimit": 10000
     },
     "inputWidgets": {},
     "nuid": "5e96b19b-7a6b-429b-a8bd-82d740326d1c",
     "showTitle": false,
     "tableResultSettingsMap": {},
     "title": ""
    }
   },
   "outputs": [
    {
     "output_type": "stream",
     "name": "stdout",
     "output_type": "stream",
     "text": [
      "+-------------------------+----------------+\n|STAGE                    |TEAM_LOST       |\n+-------------------------+----------------+\n| Group stage: Matchday 1 |Chelsea         |\n| Group stage: Matchday 1 |null            |\n| Group stage: Matchday 1 |null            |\n| Group stage: Matchday 1 |null            |\n| Group stage: Matchday 1 |K�benhavn       |\n| Group stage: Matchday 1 |null            |\n| Group stage: Matchday 1 |Juventus        |\n| Group stage: Matchday 1 |Maccabi Haifa   |\n| Group stage: Matchday 1 |Rangers         |\n| Group stage: Matchday 1 |Liverpool       |\n| Group stage: Matchday 1 |Porto           |\n| Group stage: Matchday 1 |Bayer Leverkusen|\n| Group stage: Matchday 1 |null            |\n| Group stage: Matchday 1 |Viktoria Plze?  |\n| Group stage: Matchday 1 |null            |\n| Group stage: Matchday 1 |Marseille       |\n| Group stage: Matchday 2 |Ajax            |\n| Group stage: Matchday 2 |null            |\n| Group stage: Matchday 2 |Atletico Madrid |\n| Group stage: Matchday 2 |null            |\n+-------------------------+----------------+\nonly showing top 20 rows\n\n"
     ]
    }
   ],
   "source": [
    "TEAM_WON_DUEL_LOST_GAME_STAGE_WISE = df_22.select(\"STAGE\", \"TEAM_LOST\")\n",
    "TEAM_WON_DUEL_LOST_GAME_STAGE_WISE.show(truncate = False)"
   ]
  }
 ],
 "metadata": {
  "application/vnd.databricks.v1+notebook": {
   "dashboards": [],
   "environmentMetadata": null,
   "language": "python",
   "notebookMetadata": {
    "pythonIndentUnit": 4
   },
   "notebookName": "notebook",
   "widgets": {}
  }
 },
 "nbformat": 4,
 "nbformat_minor": 0
}
