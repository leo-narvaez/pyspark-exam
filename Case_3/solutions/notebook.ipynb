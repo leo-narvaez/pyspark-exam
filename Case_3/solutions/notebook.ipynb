{
 "cells": [
  {
   "cell_type": "markdown",
   "metadata": {
    "application/vnd.databricks.v1+cell": {
     "cellMetadata": {},
     "inputWidgets": {},
     "nuid": "1f826429-1b0b-452b-98d5-d724d06f8ba3",
     "showTitle": false,
     "tableResultSettingsMap": {},
     "title": ""
    }
   },
   "source": [
    "# Explorando tendencias de mercado de Airbnb"
   ]
  },
  {
   "cell_type": "markdown",
   "metadata": {
    "application/vnd.databricks.v1+cell": {
     "cellMetadata": {},
     "inputWidgets": {},
     "nuid": "30017573-ddfa-442e-931f-69e52cab3f33",
     "showTitle": false,
     "tableResultSettingsMap": {},
     "title": ""
    }
   },
   "source": [
    "La ciudad de Nueva York tiene una variedad de anuncios de Airbnb para satisfacer la alta demanda de alojamiento temporal para viajeros, con diferentes niveles de precios, tipos de habitaciones y ubicaciones."
   ]
  },
  {
   "cell_type": "markdown",
   "metadata": {
    "application/vnd.databricks.v1+cell": {
     "cellMetadata": {},
     "inputWidgets": {},
     "nuid": "9113a8f5-7192-4887-b383-2d285a405f0f",
     "showTitle": false,
     "tableResultSettingsMap": {},
     "title": ""
    }
   },
   "source": [
    "La ciudad de Nueva York, es una de las ciudades más visitadas del mundo. Hay muchos anuncios de Airbnb en la ciudad de Nueva York para satisfacer la alta demanda de alojamiento temporal para viajeros, que puede durar desde unas pocas noches hasta muchos meses. En este proyecto, analizaremos más de cerca el mercado de Airbnb de Nueva York combinando datos de varios tipos de archivos como .csv, .tsv y .xlsx.\n",
    "\n",
    "Recuerde que los archivos CSV, TSV y Excel son tres formatos comunes para almacenar datos. Tiene a su disposición [tres archivos](https://tajamar365.sharepoint.com/:f:/s/3405-MasterIA2024-2025/EoXMgjAJLLNJqWDyKDig8kABSUkpWj_HGQjl267qNnHS9g?e=foxjFc) que contienen datos sobre los anuncios de Airbnb de 2019:  \n",
    "\n",
    "- `airbnb_price.csv `: Este es un archivo CSV que contiene datos sobre precios y ubicaciones de anuncios de Airbnb.  \n",
    "  1. `listing_id`: identificador único del anuncio  \n",
    "  2. `price`: precio del anuncio por noche en USD  \n",
    "  3. `nbhood_full`: nombre del distrito y del barrio donde se encuentra el anuncio  \n",
    "    \n",
    "\n",
    "- `airbnb_room_type.xlsx`: Este es un archivo Excel que contiene datos sobre las descripciones de los anuncios de Airbnb y los tipos de habitaciones.  \n",
    "  1. `listing_id`: identificador único del anuncio  \n",
    "  2. `description`: descripción del anuncio     \n",
    "  3. `room_type`: Airbnb tiene tres tipos de habitaciones: habitaciones compartidas, habitaciones privadas y casas o apartamentos completos \n",
    "\n",
    "\n",
    "- `airbnb_last_review.tsv`: Este es un archivo TSV que contiene datos sobre los nombres de los anfitriones de Airbnb y las fechas de revisión.  \n",
    "  1. `listing_id`: identificador único del anuncio  \n",
    "  2. `host_name`:  nombre del anfitrión del anuncio  \n",
    "  3. `last_review`: echa en la que se revisó el anuncio por última vez   "
   ]
  },
  {
   "cell_type": "markdown",
   "metadata": {
    "application/vnd.databricks.v1+cell": {
     "cellMetadata": {},
     "inputWidgets": {},
     "nuid": "bab5e15d-251d-4092-9ec3-61f8a0d84f43",
     "showTitle": false,
     "tableResultSettingsMap": {},
     "title": ""
    }
   },
   "source": [
    "Como consultor que trabaja para una empresa inmobiliaria emergente, ha recopilado datos de anuncios de Airbnb de varias fuentes para investigar el mercado de alquileres a corto plazo en Nueva York. Analizará estos datos para brindar información sobre habitaciones privadas a la empresa inmobiliaria."
   ]
  },
  {
   "cell_type": "markdown",
   "metadata": {
    "application/vnd.databricks.v1+cell": {
     "cellMetadata": {},
     "inputWidgets": {},
     "nuid": "3db66806-50c8-46b2-ab8b-fb66b3602f7d",
     "showTitle": false,
     "tableResultSettingsMap": {},
     "title": ""
    }
   },
   "source": [
    "- ¿Cuáles son las fechas de las primeras y las últimas reseñas? Almacene estos valores como dos variables independientes con los nombres que prefiera.\n",
    "- ¿Cuántos de los anuncios son habitaciones privadas? Guárdelo en cualquier variable.\n",
    "- ¿Cuál es el precio promedio de los anuncios? Redondee a los dos decimales más cercanos y guárdelo en una variable.\n",
    "- Combine las nuevas variables en un DataFrame llamado review_dates con cuatro columnas en el siguiente orden: first_reviewed, last_reviewed, nb_private_rooms y avg_price. El DataFrame solo debe contener una fila de valores."
   ]
  },
  {
   "cell_type": "markdown",
   "metadata": {
    "application/vnd.databricks.v1+cell": {
     "cellMetadata": {},
     "inputWidgets": {},
     "nuid": "91c35cc0-831b-4640-b423-07abbe3af933",
     "showTitle": false,
     "tableResultSettingsMap": {},
     "title": ""
    }
   },
   "source": [
    "### Limpieza de Datos"
   ]
  },
  {
   "cell_type": "markdown",
   "metadata": {
    "application/vnd.databricks.v1+cell": {
     "cellMetadata": {},
     "inputWidgets": {},
     "nuid": "b5f7d6f6-f9d2-40e7-b944-062a8d8b5207",
     "showTitle": false,
     "tableResultSettingsMap": {},
     "title": ""
    }
   },
   "source": [
    "Primero vamos a cargar todos nuestros datos:"
   ]
  },
  {
   "cell_type": "code",
   "execution_count": 0,
   "metadata": {
    "application/vnd.databricks.v1+cell": {
     "cellMetadata": {
      "byteLimit": 2048000,
      "rowLimit": 10000
     },
     "inputWidgets": {},
     "nuid": "1aac21f6-a628-4c8e-9746-8e81e0ad59c0",
     "showTitle": false,
     "tableResultSettingsMap": {},
     "title": ""
    }
   },
   "outputs": [],
   "source": [
    "df1 = spark.read.format(\"csv\") \\\n",
    "    .option(\"delimiter\", \"\\t\") \\\n",
    "    .option(\"header\", \"true\") \\\n",
    "    .load(\"dbfs:/FileStore/pyspark-exam/case_3/dataset/airbnb_last_review.tsv\")\n",
    "\n",
    "df2 = spark.read.format(\"csv\") \\\n",
    "    .option(\"header\", \"true\") \\\n",
    "    .load(\"dbfs:/FileStore/pyspark-exam/case_3/dataset/airbnb_price.csv\")\n",
    "\n",
    "df3 = spark.read.format(\"csv\") \\\n",
    "    .option(\"header\", \"true\") \\\n",
    "    .option(\"delimiter\", \";\") \\\n",
    "    .load(\"dbfs:/FileStore/pyspark-exam/case_3/dataset/airbnb_room_type.csv\")"
   ]
  },
  {
   "cell_type": "code",
   "execution_count": 0,
   "metadata": {
    "application/vnd.databricks.v1+cell": {
     "cellMetadata": {
      "byteLimit": 2048000,
      "rowLimit": 10000
     },
     "inputWidgets": {},
     "nuid": "bc87f8df-a1fb-47d1-a2a4-54b38ad97511",
     "showTitle": false,
     "tableResultSettingsMap": {},
     "title": ""
    }
   },
   "outputs": [
    {
     "output_type": "stream",
     "name": "stdout",
     "output_type": "stream",
     "text": [
      "+----------+----------------+---------------+\n|listing_id|       host_name|    last_review|\n+----------+----------------+---------------+\n|      2595|        Jennifer|    May 21 2019|\n|      3831|     LisaRoxanne|   July 05 2019|\n|      5099|           Chris|   June 22 2019|\n|      5178|        Shunichi|   June 24 2019|\n|      5238|             Ben|   June 09 2019|\n|      5295|            Lena|   June 22 2019|\n|      5441|            Kate|   June 23 2019|\n|      5803|          Laurie|   June 24 2019|\n|      6021|         Claudio|   July 05 2019|\n|      6848|   Allen & Irina|   June 29 2019|\n|      7097|            Jane|   June 28 2019|\n|      7322|            Doti|   July 01 2019|\n|      7726|Adam And Charity|   June 22 2019|\n|      8024|           Lisel|   July 01 2019|\n|      8025|           Lisel|January 01 2019|\n|      8110|           Lisel|   July 02 2019|\n|      8490|        Nathalie|   June 19 2019|\n|      8505|         Gregory|   June 23 2019|\n|      9518|            Shon|   June 15 2019|\n|      9657|            Dana|  April 19 2019|\n+----------+----------------+---------------+\nonly showing top 20 rows\n\n+----------+-----------+--------------------+\n|listing_id|      price|         nbhood_full|\n+----------+-----------+--------------------+\n|      2595|225 dollars|  Manhattan, Midtown|\n|      3831| 89 dollars|Brooklyn, Clinton...|\n|      5099|200 dollars|Manhattan, Murray...|\n|      5178| 79 dollars|Manhattan, Hell's...|\n|      5238|150 dollars|Manhattan, Chinatown|\n|      5295|135 dollars|Manhattan, Upper ...|\n|      5441| 85 dollars|Manhattan, Hell's...|\n|      5803| 89 dollars|Brooklyn, South S...|\n|      6021| 85 dollars|Manhattan, Upper ...|\n|      6848|140 dollars|Brooklyn, William...|\n|      7097|215 dollars|Brooklyn, Fort Gr...|\n|      7322|140 dollars|  Manhattan, Chelsea|\n|      7726| 99 dollars|Brooklyn, Crown H...|\n|      8024|130 dollars|Brooklyn, Park Slope|\n|      8025| 80 dollars|Brooklyn, Park Slope|\n|      8110|110 dollars|Brooklyn, Park Slope|\n|      8490|120 dollars|Brooklyn, Bedford...|\n|      8505| 60 dollars|Brooklyn, Windsor...|\n|      9518| 44 dollars|   Manhattan, Inwood|\n|      9657|180 dollars|Manhattan, East V...|\n+----------+-----------+--------------------+\nonly showing top 20 rows\n\n+----------+--------------------+---------------+\n|listing_id|         description|      room_type|\n+----------+--------------------+---------------+\n|      2595|Skylit Midtown Ca...|Entire home/apt|\n|      3831|Cozy Entire Floor...|Entire home/apt|\n|      5099|Large Cozy 1 BR A...|Entire home/apt|\n|      5178|Large Furnished R...|   private room|\n|      5238|Cute & Cozy Lower...|Entire home/apt|\n|      5295|Beautiful 1br on ...|Entire home/apt|\n|      5441|Central Manhattan...|   Private room|\n|      5803|Lovely Room 1, Ga...|   Private room|\n|      6021|Wonderful Guest B...|   Private room|\n|      6848|Only 2 stops to M...|entire home/apt|\n|      7097|Perfect for Your ...|Entire home/apt|\n|      7322|     Chelsea Perfect|   Private room|\n|      7726|Hip Historic Brow...|Entire home/apt|\n|      8024|CBG CtyBGd HelpsH...|   PRIVATE ROOM|\n|      8025|CBG Helps Haiti R...|   PRIVATE ROOM|\n|      8110|CBG Helps Haiti R...|   Private room|\n|      8490|MAISON DES SIRENE...|Entire home/apt|\n|      8505|Sunny Bedroom Acr...|   Private room|\n|      9518|SPACIOUS, LOVELY ...|   PRIVATE ROOM|\n|      9657|Modern 1 BR / NYC...|entire home/apt|\n+----------+--------------------+---------------+\nonly showing top 20 rows\n\n"
     ]
    }
   ],
   "source": [
    "df1.show()\n",
    "df2.show()\n",
    "df3.show()"
   ]
  },
  {
   "cell_type": "markdown",
   "metadata": {
    "application/vnd.databricks.v1+cell": {
     "cellMetadata": {},
     "inputWidgets": {},
     "nuid": "50ce8121-6993-408b-add5-1d2f4ba6b4e4",
     "showTitle": false,
     "tableResultSettingsMap": {},
     "title": ""
    }
   },
   "source": [
    "Ahora para manejar todos los datos a la vez, vamos a unir nuestros datasets en uno solo, se puede ver que todos tienen una correspondencia con el campo `listing_id`, así que este sera nuestro punto de partida."
   ]
  },
  {
   "cell_type": "code",
   "execution_count": 0,
   "metadata": {
    "application/vnd.databricks.v1+cell": {
     "cellMetadata": {
      "byteLimit": 2048000,
      "rowLimit": 10000
     },
     "inputWidgets": {},
     "nuid": "c1616026-913e-4f36-92ee-6924c479be5d",
     "showTitle": false,
     "tableResultSettingsMap": {},
     "title": ""
    }
   },
   "outputs": [
    {
     "output_type": "stream",
     "name": "stdout",
     "output_type": "stream",
     "text": [
      "+----------+----------------+---------------+-----------+--------------------+--------------------+---------------+\n|listing_id|       host_name|    last_review|      price|         nbhood_full|         description|      room_type|\n+----------+----------------+---------------+-----------+--------------------+--------------------+---------------+\n|      2595|        Jennifer|    May 21 2019|225 dollars|  Manhattan, Midtown|Skylit Midtown Ca...|Entire home/apt|\n|      3831|     LisaRoxanne|   July 05 2019| 89 dollars|Brooklyn, Clinton...|Cozy Entire Floor...|Entire home/apt|\n|      5099|           Chris|   June 22 2019|200 dollars|Manhattan, Murray...|Large Cozy 1 BR A...|Entire home/apt|\n|      5178|        Shunichi|   June 24 2019| 79 dollars|Manhattan, Hell's...|Large Furnished R...|   private room|\n|      5238|             Ben|   June 09 2019|150 dollars|Manhattan, Chinatown|Cute & Cozy Lower...|Entire home/apt|\n|      5295|            Lena|   June 22 2019|135 dollars|Manhattan, Upper ...|Beautiful 1br on ...|Entire home/apt|\n|      5441|            Kate|   June 23 2019| 85 dollars|Manhattan, Hell's...|Central Manhattan...|   Private room|\n|      5803|          Laurie|   June 24 2019| 89 dollars|Brooklyn, South S...|Lovely Room 1, Ga...|   Private room|\n|      6021|         Claudio|   July 05 2019| 85 dollars|Manhattan, Upper ...|Wonderful Guest B...|   Private room|\n|      6848|   Allen & Irina|   June 29 2019|140 dollars|Brooklyn, William...|Only 2 stops to M...|entire home/apt|\n|      7097|            Jane|   June 28 2019|215 dollars|Brooklyn, Fort Gr...|Perfect for Your ...|Entire home/apt|\n|      7322|            Doti|   July 01 2019|140 dollars|  Manhattan, Chelsea|     Chelsea Perfect|   Private room|\n|      7726|Adam And Charity|   June 22 2019| 99 dollars|Brooklyn, Crown H...|Hip Historic Brow...|Entire home/apt|\n|      8024|           Lisel|   July 01 2019|130 dollars|Brooklyn, Park Slope|CBG CtyBGd HelpsH...|   PRIVATE ROOM|\n|      8025|           Lisel|January 01 2019| 80 dollars|Brooklyn, Park Slope|CBG Helps Haiti R...|   PRIVATE ROOM|\n|      8110|           Lisel|   July 02 2019|110 dollars|Brooklyn, Park Slope|CBG Helps Haiti R...|   Private room|\n|      8490|        Nathalie|   June 19 2019|120 dollars|Brooklyn, Bedford...|MAISON DES SIRENE...|Entire home/apt|\n|      8505|         Gregory|   June 23 2019| 60 dollars|Brooklyn, Windsor...|Sunny Bedroom Acr...|   Private room|\n|      9518|            Shon|   June 15 2019| 44 dollars|   Manhattan, Inwood|SPACIOUS, LOVELY ...|   PRIVATE ROOM|\n|      9657|            Dana|  April 19 2019|180 dollars|Manhattan, East V...|Modern 1 BR / NYC...|entire home/apt|\n+----------+----------------+---------------+-----------+--------------------+--------------------+---------------+\nonly showing top 20 rows\n\n"
     ]
    }
   ],
   "source": [
    "# Uninos el primer dataframe con el segundo.\n",
    "df_airbnb = df1.join(df2, on=\"listing_id\", how=\"inner\")\n",
    "\n",
    "# Luego unimos ese dataframe con el tercero\n",
    "df_airbnb = df_airbnb.join(df3, on=\"listing_id\", how=\"inner\")\n",
    "\n",
    "# Vemos si se fusionó correctamente.\n",
    "df_airbnb.show()"
   ]
  },
  {
   "cell_type": "markdown",
   "metadata": {
    "application/vnd.databricks.v1+cell": {
     "cellMetadata": {},
     "inputWidgets": {},
     "nuid": "6829a5b5-bb02-4a9c-b706-1e984a4c2131",
     "showTitle": false,
     "tableResultSettingsMap": {},
     "title": ""
    }
   },
   "source": [
    "Ahora que tenemos todo en una sola, vamos a tener que formatear correctamente los datos, primero vemos la estructura de nuestro dataframe."
   ]
  },
  {
   "cell_type": "code",
   "execution_count": 0,
   "metadata": {
    "application/vnd.databricks.v1+cell": {
     "cellMetadata": {
      "byteLimit": 2048000,
      "rowLimit": 10000
     },
     "inputWidgets": {},
     "nuid": "31222e03-156e-427c-bb70-823e3845b5fa",
     "showTitle": false,
     "tableResultSettingsMap": {},
     "title": ""
    }
   },
   "outputs": [
    {
     "output_type": "stream",
     "name": "stdout",
     "output_type": "stream",
     "text": [
      "root\n |-- listing_id: string (nullable = true)\n |-- host_name: string (nullable = true)\n |-- last_review: string (nullable = true)\n |-- price: string (nullable = true)\n |-- nbhood_full: string (nullable = true)\n |-- description: string (nullable = true)\n |-- room_type: string (nullable = true)\n\n"
     ]
    }
   ],
   "source": [
    "df_airbnb.printSchema()"
   ]
  },
  {
   "cell_type": "markdown",
   "metadata": {
    "application/vnd.databricks.v1+cell": {
     "cellMetadata": {},
     "inputWidgets": {},
     "nuid": "fe093be3-9910-4c2d-96e4-73021f0c606f",
     "showTitle": false,
     "tableResultSettingsMap": {},
     "title": ""
    }
   },
   "source": [
    "Ahora cambiaremos los tipos de datos segun corresponda."
   ]
  },
  {
   "cell_type": "code",
   "execution_count": 0,
   "metadata": {
    "application/vnd.databricks.v1+cell": {
     "cellMetadata": {
      "byteLimit": 2048000,
      "rowLimit": 10000
     },
     "inputWidgets": {},
     "nuid": "d724119f-f003-409c-8674-efee21bce240",
     "showTitle": false,
     "tableResultSettingsMap": {},
     "title": ""
    }
   },
   "outputs": [
    {
     "output_type": "stream",
     "name": "stdout",
     "output_type": "stream",
     "text": [
      "+----------+----------------+-----------+-----+--------------------+--------------------+---------------+\n|listing_id|       host_name|last_review|price|         nbhood_full|         description|      room_type|\n+----------+----------------+-----------+-----+--------------------+--------------------+---------------+\n|      2595|        Jennifer| 2019-05-21|225.0|  Manhattan, Midtown|Skylit Midtown Ca...|entire home/apt|\n|      3831|     LisaRoxanne| 2019-07-05| 89.0|Brooklyn, Clinton...|Cozy Entire Floor...|entire home/apt|\n|      5099|           Chris| 2019-06-22|200.0|Manhattan, Murray...|Large Cozy 1 BR A...|entire home/apt|\n|      5178|        Shunichi| 2019-06-24| 79.0|Manhattan, Hell's...|Large Furnished R...|   private room|\n|      5238|             Ben| 2019-06-09|150.0|Manhattan, Chinatown|Cute & Cozy Lower...|entire home/apt|\n|      5295|            Lena| 2019-06-22|135.0|Manhattan, Upper ...|Beautiful 1br on ...|entire home/apt|\n|      5441|            Kate| 2019-06-23| 85.0|Manhattan, Hell's...|Central Manhattan...|   private room|\n|      5803|          Laurie| 2019-06-24| 89.0|Brooklyn, South S...|Lovely Room 1, Ga...|   private room|\n|      6021|         Claudio| 2019-07-05| 85.0|Manhattan, Upper ...|Wonderful Guest B...|   private room|\n|      6848|   Allen & Irina| 2019-06-29|140.0|Brooklyn, William...|Only 2 stops to M...|entire home/apt|\n|      7097|            Jane| 2019-06-28|215.0|Brooklyn, Fort Gr...|Perfect for Your ...|entire home/apt|\n|      7322|            Doti| 2019-07-01|140.0|  Manhattan, Chelsea|     Chelsea Perfect|   private room|\n|      7726|Adam And Charity| 2019-06-22| 99.0|Brooklyn, Crown H...|Hip Historic Brow...|entire home/apt|\n|      8024|           Lisel| 2019-07-01|130.0|Brooklyn, Park Slope|CBG CtyBGd HelpsH...|   private room|\n|      8025|           Lisel| 2019-01-01| 80.0|Brooklyn, Park Slope|CBG Helps Haiti R...|   private room|\n|      8110|           Lisel| 2019-07-02|110.0|Brooklyn, Park Slope|CBG Helps Haiti R...|   private room|\n|      8490|        Nathalie| 2019-06-19|120.0|Brooklyn, Bedford...|MAISON DES SIRENE...|entire home/apt|\n|      8505|         Gregory| 2019-06-23| 60.0|Brooklyn, Windsor...|Sunny Bedroom Acr...|   private room|\n|      9518|            Shon| 2019-06-15| 44.0|   Manhattan, Inwood|SPACIOUS, LOVELY ...|   private room|\n|      9657|            Dana| 2019-04-19|180.0|Manhattan, East V...|Modern 1 BR / NYC...|entire home/apt|\n+----------+----------------+-----------+-----+--------------------+--------------------+---------------+\nonly showing top 20 rows\n\n"
     ]
    }
   ],
   "source": [
    "from pyspark.sql.functions import col, regexp_replace, lower, to_date\n",
    "\n",
    "# Eliminar la palabra \"dollars\" y convertir el precio a un tipo numérico (float)\n",
    "df_airbnb = df_airbnb.withColumn(\n",
    "    \"price\",\n",
    "    regexp_replace(col(\"price\"), \" dollars\", \"\").cast(\"float\")\n",
    ")\n",
    "\n",
    "# Poner todos los tipos de habitaciones en minúsculas\n",
    "df_airbnb = df_airbnb.withColumn(\"room_type\", lower(col(\"room_type\")))\n",
    "\n",
    "# Convertir la fecha correctamente\n",
    "df_airbnb = df_airbnb.withColumn(\n",
    "    \"last_review\", \n",
    "    to_date(col(\"last_review\"), \"MMMM dd yyyy\")\n",
    ")\n",
    "\n",
    "df_airbnb.show()\n"
   ]
  },
  {
   "cell_type": "markdown",
   "metadata": {
    "application/vnd.databricks.v1+cell": {
     "cellMetadata": {},
     "inputWidgets": {},
     "nuid": "482ec6e9-e251-4455-b5af-765036e1ab5d",
     "showTitle": false,
     "tableResultSettingsMap": {},
     "title": ""
    }
   },
   "source": [
    "### Actividades"
   ]
  },
  {
   "cell_type": "markdown",
   "metadata": {
    "application/vnd.databricks.v1+cell": {
     "cellMetadata": {},
     "inputWidgets": {},
     "nuid": "03752324-4591-4e9b-853a-c977fd598e44",
     "showTitle": false,
     "tableResultSettingsMap": {},
     "title": ""
    }
   },
   "source": [
    "¿Cuáles son las fechas de las primeras y las últimas reseñas? Almacene estos valores como dos variables independientes con los nombres que prefiera."
   ]
  },
  {
   "cell_type": "code",
   "execution_count": 0,
   "metadata": {
    "application/vnd.databricks.v1+cell": {
     "cellMetadata": {
      "byteLimit": 2048000,
      "rowLimit": 10000
     },
     "inputWidgets": {},
     "nuid": "02f59655-6530-4f0c-92d5-b37e7a7028f6",
     "showTitle": false,
     "tableResultSettingsMap": {},
     "title": ""
    }
   },
   "outputs": [
    {
     "output_type": "stream",
     "name": "stdout",
     "output_type": "stream",
     "text": [
      "Fecha de la primera reseña: 2019-01-01\nFecha de la última reseña: 2019-07-09\n"
     ]
    }
   ],
   "source": [
    "from pyspark.sql.functions import min, max\n",
    "\n",
    "# Obtener la fecha de la primera reseña\n",
    "first_review_date = df_airbnb.agg(min(\"last_review\")).collect()[0][0]\n",
    "\n",
    "# Obtener la fecha de la última reseña\n",
    "last_review_date = df_airbnb.agg(max(\"last_review\")).collect()[0][0]\n",
    "\n",
    "# Mostrar las fechas\n",
    "print(f\"Fecha de la primera reseña: {first_review_date}\")\n",
    "print(f\"Fecha de la última reseña: {last_review_date}\")\n"
   ]
  },
  {
   "cell_type": "markdown",
   "metadata": {
    "application/vnd.databricks.v1+cell": {
     "cellMetadata": {},
     "inputWidgets": {},
     "nuid": "b6cf111c-2c1e-4540-8843-e6a51fe2557f",
     "showTitle": false,
     "tableResultSettingsMap": {},
     "title": ""
    }
   },
   "source": [
    "¿Cuántos de los anuncios son habitaciones privadas? Guárdelo en cualquier variable."
   ]
  },
  {
   "cell_type": "code",
   "execution_count": 0,
   "metadata": {
    "application/vnd.databricks.v1+cell": {
     "cellMetadata": {
      "byteLimit": 2048000,
      "rowLimit": 10000
     },
     "inputWidgets": {},
     "nuid": "4c6cb553-5281-4c06-9b51-4739154baec3",
     "showTitle": false,
     "tableResultSettingsMap": {},
     "title": ""
    }
   },
   "outputs": [
    {
     "output_type": "stream",
     "name": "stdout",
     "output_type": "stream",
     "text": [
      "Número de anuncios con habitación privada: 11282\n"
     ]
    }
   ],
   "source": [
    "# Filtrar las filas donde el tipo de habitación es \"Private room\" y contar el número de filas\n",
    "private_room_count = df_airbnb.filter(df_airbnb[\"room_type\"] == \"private room\").count()\n",
    "\n",
    "# Mostrar el resultado\n",
    "print(f\"Número de anuncios con habitación privada: {private_room_count}\")\n"
   ]
  },
  {
   "cell_type": "markdown",
   "metadata": {
    "application/vnd.databricks.v1+cell": {
     "cellMetadata": {},
     "inputWidgets": {},
     "nuid": "043432cc-85c2-4b67-a98a-d37b69746191",
     "showTitle": false,
     "tableResultSettingsMap": {},
     "title": ""
    }
   },
   "source": [
    "¿Cuál es el precio promedio de los anuncios? Redondee a los dos decimales más cercanos y guárdelo en una variable."
   ]
  },
  {
   "cell_type": "code",
   "execution_count": 0,
   "metadata": {
    "application/vnd.databricks.v1+cell": {
     "cellMetadata": {
      "byteLimit": 2048000,
      "rowLimit": 10000
     },
     "inputWidgets": {},
     "nuid": "3affd76b-1adb-486f-93db-d0b221b8fa03",
     "showTitle": false,
     "tableResultSettingsMap": {},
     "title": ""
    }
   },
   "outputs": [
    {
     "output_type": "stream",
     "name": "stdout",
     "output_type": "stream",
     "text": [
      "El precio promedio de los anuncios es: 141.78\n"
     ]
    }
   ],
   "source": [
    "from pyspark.sql.functions import avg, round\n",
    "\n",
    "# Calculamos el precio promedio y redondeamos a dos decimales.\n",
    "average_price = df_airbnb.agg(round(avg(\"price\"), 2)).collect()[0][0]\n",
    "\n",
    "# Mostrar el resultado\n",
    "print(f\"El precio promedio de los anuncios es: {average_price}\")"
   ]
  },
  {
   "cell_type": "markdown",
   "metadata": {
    "application/vnd.databricks.v1+cell": {
     "cellMetadata": {},
     "inputWidgets": {},
     "nuid": "be060c8b-0a17-40b7-9abc-040d7a0a8759",
     "showTitle": false,
     "tableResultSettingsMap": {},
     "title": ""
    }
   },
   "source": [
    "Combine las nuevas variables en un DataFrame llamado review_dates con cuatro columnas en el siguiente orden: first_reviewed, last_reviewed, nb_private_rooms y avg_price. El DataFrame solo debe contener una fila de valores."
   ]
  },
  {
   "cell_type": "code",
   "execution_count": 0,
   "metadata": {
    "application/vnd.databricks.v1+cell": {
     "cellMetadata": {
      "byteLimit": 2048000,
      "rowLimit": 10000
     },
     "inputWidgets": {},
     "nuid": "484d37a4-3f76-421f-8927-90480995cde1",
     "showTitle": false,
     "tableResultSettingsMap": {},
     "title": ""
    }
   },
   "outputs": [
    {
     "output_type": "display_data",
     "data": {
      "text/html": [
       "<style scoped>\n",
       "  .table-result-container {\n",
       "    max-height: 300px;\n",
       "    overflow: auto;\n",
       "  }\n",
       "  table, th, td {\n",
       "    border: 1px solid black;\n",
       "    border-collapse: collapse;\n",
       "  }\n",
       "  th, td {\n",
       "    padding: 5px;\n",
       "  }\n",
       "  th {\n",
       "    text-align: left;\n",
       "  }\n",
       "</style><div class='table-result-container'><table class='table-result'><thead style='background-color: white'><tr><th>first_reviewed</th><th>last_reviewed</th><th>nb_private_rooms</th><th>avg_price</th></tr></thead><tbody><tr><td>2019-01-01</td><td>2019-07-09</td><td>11282</td><td>141.78</td></tr></tbody></table></div>"
      ]
     },
     "metadata": {
      "application/vnd.databricks.v1+output": {
       "addedWidgets": {},
       "aggData": [],
       "aggError": "",
       "aggOverflow": false,
       "aggSchema": [],
       "aggSeriesLimitReached": false,
       "aggType": "",
       "arguments": {},
       "columnCustomDisplayInfos": {},
       "data": [
        [
         "2019-01-01",
         "2019-07-09",
         11282,
         141.78
        ]
       ],
       "datasetInfos": [],
       "dbfsResultPath": null,
       "isJsonSchema": true,
       "metadata": {},
       "overflow": false,
       "plotOptions": {
        "customPlotOptions": {},
        "displayType": "table",
        "pivotAggregation": null,
        "pivotColumns": null,
        "xColumns": null,
        "yColumns": null
       },
       "removedWidgets": [],
       "schema": [
        {
         "metadata": "{}",
         "name": "first_reviewed",
         "type": "\"date\""
        },
        {
         "metadata": "{}",
         "name": "last_reviewed",
         "type": "\"date\""
        },
        {
         "metadata": "{}",
         "name": "nb_private_rooms",
         "type": "\"long\""
        },
        {
         "metadata": "{}",
         "name": "avg_price",
         "type": "\"double\""
        }
       ],
       "type": "table"
      }
     },
     "output_type": "display_data"
    }
   ],
   "source": [
    "from pyspark.sql import Row\n",
    "\n",
    "# Creamos la fila guardando los nombres indicados con las variables que creamos anteriormente\n",
    "row_data = Row(first_reviewed=first_review_date,\n",
    "               last_reviewed=last_review_date,\n",
    "               nb_private_rooms=private_room_count,\n",
    "               avg_price=average_price)\n",
    "\n",
    "# Creamos el dataframe\n",
    "review_dates = spark.createDataFrame([row_data])\n",
    "\n",
    "# Mostramos el dataframe creado\n",
    "review_dates.display()\n",
    "          "
   ]
  }
 ],
 "metadata": {
  "application/vnd.databricks.v1+notebook": {
   "dashboards": [],
   "environmentMetadata": null,
   "language": "python",
   "notebookMetadata": {
    "pythonIndentUnit": 4
   },
   "notebookName": "notebook",
   "widgets": {}
  }
 },
 "nbformat": 4,
 "nbformat_minor": 0
}
